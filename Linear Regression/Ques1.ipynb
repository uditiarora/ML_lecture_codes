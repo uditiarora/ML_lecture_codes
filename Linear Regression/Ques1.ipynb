{
 "cells": [
  {
   "cell_type": "code",
   "execution_count": 7,
   "metadata": {},
   "outputs": [],
   "source": [
    "import numpy as np"
   ]
  },
  {
   "cell_type": "code",
   "execution_count": 8,
   "metadata": {},
   "outputs": [],
   "source": [
    "train = np.loadtxt(\"train.csv\",delimiter=\",\")\n",
    "x_train = train[:,0:10]\n",
    "y_train = train[:,10]\n"
   ]
  },
  {
   "cell_type": "code",
   "execution_count": 9,
   "metadata": {},
   "outputs": [],
   "source": [
    "from sklearn import model_selection\n",
    "#x_train,x_test,y_train,y_test = model_selection.train_test_split(x,y,test_size=0.1)\n"
   ]
  },
  {
   "cell_type": "code",
   "execution_count": 10,
   "metadata": {},
   "outputs": [],
   "source": [
    "from sklearn.linear_model import LinearRegression"
   ]
  },
  {
   "cell_type": "code",
   "execution_count": 12,
   "metadata": {
    "scrolled": true
   },
   "outputs": [],
   "source": [
    "alg1 = LinearRegression()\n",
    "alg1.fit(x_train,y_train)\n",
    "test = np.loadtxt(\"test.csv\",delimiter=\",\")\n",
    "x_test2 = test[:,0:10]\n",
    "m ,c =alg1.coef_, alg1.intercept_\n",
    "y_pred = np.zeros(len(x_test2))\n",
    "for i in range(len(x_test2)):\n",
    "    y_pred[i] = (m*x_test2[i]).sum() + c\n",
    "\n",
    "np.savetxt(\"untitled.csv\",y_pred,fmt='%.5f',delimiter=\",\")\n",
    "\n"
   ]
  },
  {
   "cell_type": "code",
   "execution_count": null,
   "metadata": {},
   "outputs": [],
   "source": []
  },
  {
   "cell_type": "code",
   "execution_count": null,
   "metadata": {},
   "outputs": [],
   "source": []
  }
 ],
 "metadata": {
  "kernelspec": {
   "display_name": "Python 3",
   "language": "python",
   "name": "python3"
  },
  "language_info": {
   "codemirror_mode": {
    "name": "ipython",
    "version": 3
   },
   "file_extension": ".py",
   "mimetype": "text/x-python",
   "name": "python",
   "nbconvert_exporter": "python",
   "pygments_lexer": "ipython3",
   "version": "3.6.4"
  }
 },
 "nbformat": 4,
 "nbformat_minor": 2
}
