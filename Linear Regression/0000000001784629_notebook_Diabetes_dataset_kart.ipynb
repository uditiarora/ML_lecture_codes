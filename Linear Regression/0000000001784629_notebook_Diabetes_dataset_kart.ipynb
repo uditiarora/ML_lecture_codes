{
 "cells": [
  {
   "cell_type": "code",
   "execution_count": 1,
   "metadata": {},
   "outputs": [],
   "source": [
    "import numpy as np\n",
    "import pandas as pd\n",
    "from sklearn import model_selection\n",
    "from sklearn.linear_model import LinearRegression\n",
    "from sklearn.preprocessing import StandardScaler"
   ]
  },
  {
   "cell_type": "code",
   "execution_count": 2,
   "metadata": {},
   "outputs": [
    {
     "data": {
      "text/plain": [
       "array([-0.04910502, -0.04464164,  0.16085492, -0.04698506, -0.02908802,\n",
       "       -0.01978964, -0.04708248,  0.03430886,  0.02801651,  0.01134862])"
      ]
     },
     "execution_count": 2,
     "metadata": {},
     "output_type": "execute_result"
    }
   ],
   "source": [
    "train_data=np.loadtxt('train.csv',delimiter=\",\")\n",
    "test_data=np.loadtxt('test.csv',delimiter=\",\")\n",
    "x=train_data[:,0:10]\n",
    "test_data=test_data[:,0:10]\n",
    "y=train_data[:,10]\n",
    "x[0]\n"
   ]
  },
  {
   "cell_type": "code",
   "execution_count": 3,
   "metadata": {},
   "outputs": [],
   "source": [
    "x_train,x_test,y_train,y_test=model_selection.train_test_split(x,y,test_size=0.3)"
   ]
  },
  {
   "cell_type": "code",
   "execution_count": 4,
   "metadata": {},
   "outputs": [
    {
     "data": {
      "text/plain": [
       "(10,)"
      ]
     },
     "execution_count": 4,
     "metadata": {},
     "output_type": "execute_result"
    }
   ],
   "source": [
    "\n",
    "algo1=LinearRegression()\n",
    "algo1.fit(x_train,y_train)\n",
    "m,c=algo1.coef_,algo1.intercept_\n",
    "m.shape"
   ]
  },
  {
   "cell_type": "code",
   "execution_count": 5,
   "metadata": {
    "scrolled": true
   },
   "outputs": [
    {
     "name": "stdout",
     "output_type": "stream",
     "text": [
      "m:  [ -58.74781057 -280.80834086  617.04390907  395.54736841 -619.22852685\n",
      "  365.60373571   -8.72618804  -15.40189806  796.06217131  -99.45581707]\n",
      "c:  152.98880363717285\n",
      "Train score:  0.5658646325590784\n",
      "Train score:  0.5658646325590784\n",
      "Test score:  0.2413630086416343\n"
     ]
    }
   ],
   "source": [
    "\n",
    "print(\"m: \",m)\n",
    "print(\"c: \",c)\n",
    "print(\"Train score: \", algo1.score(x_train,y_train))\n",
    "yp=np.zeros(len(test_data))\n",
    "print(\"Train score: \", algo1.score(x_train,y_train))\n",
    "print(\"Test score: \", algo1.score(x_test,y_test))\n",
    "for i in range(len(test_data)):\n",
    "    yp[i]=(m*test_data[i]).sum()+c\n",
    "    \n"
   ]
  },
  {
   "cell_type": "code",
   "execution_count": 6,
   "metadata": {},
   "outputs": [],
   "source": [
    "np.savetxt(\"pred.csv\", yp, fmt='%.5f', delimiter=\",\")"
   ]
  }
 ],
 "metadata": {
  "kernelspec": {
   "display_name": "Python 3",
   "language": "python",
   "name": "python3"
  },
  "language_info": {
   "codemirror_mode": {
    "name": "ipython",
    "version": 3
   },
   "file_extension": ".py",
   "mimetype": "text/x-python",
   "name": "python",
   "nbconvert_exporter": "python",
   "pygments_lexer": "ipython3",
   "version": "3.6.4"
  }
 },
 "nbformat": 4,
 "nbformat_minor": 2
}
