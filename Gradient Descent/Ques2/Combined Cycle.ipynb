{
 "cells": [
  {
   "cell_type": "code",
   "execution_count": 106,
   "metadata": {},
   "outputs": [],
   "source": [
    "from sklearn import model_selection\n",
    "import numpy as np\n"
   ]
  },
  {
   "cell_type": "code",
   "execution_count": 107,
   "metadata": {},
   "outputs": [
    {
     "name": "stdout",
     "output_type": "stream",
     "text": [
      "[   8.58   38.38 1021.03   84.37  482.26]\n",
      "[  19.62971154   54.28815357 1013.26303233   73.275818    454.4312932 ]\n"
     ]
    }
   ],
   "source": [
    "train_data=np.loadtxt('train.csv',delimiter=\",\")\n",
    "test_data=np.loadtxt('test.csv',delimiter=\",\")\n",
    "\n",
    "\n",
    "\n",
    "print(train_data[0])\n",
    "print(np.mean(train_data,axis=0))"
   ]
  },
  {
   "cell_type": "code",
   "execution_count": 108,
   "metadata": {},
   "outputs": [],
   "source": [
    "arr = np.concatenate((train_data[:,0:(len(train_data[0])-1)], test_data),axis=0)\n"
   ]
  },
  {
   "cell_type": "code",
   "execution_count": null,
   "metadata": {},
   "outputs": [],
   "source": []
  },
  {
   "cell_type": "code",
   "execution_count": null,
   "metadata": {},
   "outputs": [],
   "source": []
  },
  {
   "cell_type": "code",
   "execution_count": null,
   "metadata": {},
   "outputs": [],
   "source": []
  },
  {
   "cell_type": "code",
   "execution_count": 109,
   "metadata": {},
   "outputs": [
    {
     "data": {
      "text/plain": [
       "array([  11.95,   42.03, 1017.58,   90.89])"
      ]
     },
     "execution_count": 109,
     "metadata": {},
     "output_type": "execute_result"
    }
   ],
   "source": [
    "train = arr[0:len(train_data),:]\n",
    "test = arr[len(train_data):,:]\n",
    "N=len(train)\n",
    "M=len(train[0])\n",
    "train[0]\n",
    "test[0]"
   ]
  },
  {
   "cell_type": "code",
   "execution_count": 110,
   "metadata": {},
   "outputs": [],
   "source": [
    "def step_gradient(points,learning_rate,m,c):\n",
    "    m_slope=np.zeros(M-1)\n",
    "    c_slope=0\n",
    "    for i in range(N):\n",
    "        y=points[i,M-1]\n",
    "        for j in range(M-1):\n",
    "            x=points[i,j]\n",
    "            m_slope[j]+=(-2/N)*(y-m[j]*x-c)*x\n",
    "            c_slope+=(-2/N)*(y-m[j]*x-c)\n",
    "    m_new=m-learning_rate*m_slope\n",
    "    c_new=c-learning_rate*c_slope\n",
    " \n",
    "    return m_new,c_new"
   ]
  },
  {
   "cell_type": "code",
   "execution_count": 111,
   "metadata": {},
   "outputs": [],
   "source": [
    "def gd(points,learning_rate,num_iteration):\n",
    "    m=np.zeros(M-1)\n",
    "    c=0\n",
    "    for i in range(num_iteration):\n",
    "        m,c=step_gradient(points,learning_rate, m,c)\n",
    "       \n",
    "    return m,c\n",
    "    "
   ]
  },
  {
   "cell_type": "code",
   "execution_count": 162,
   "metadata": {},
   "outputs": [],
   "source": [
    "def run():\n",
    "    \n",
    "    learning_rate=0.000003\n",
    "    num_iteration = 55\n",
    "    m,c= gd(train,learning_rate,num_iteration)\n",
    "    \n",
    "    return m,c\n"
   ]
  },
  {
   "cell_type": "code",
   "execution_count": 163,
   "metadata": {},
   "outputs": [
    {
     "data": {
      "text/plain": [
       "array([84.37, 66.74, 78.76, ..., 64.74, 63.63, 47.96])"
      ]
     },
     "execution_count": 163,
     "metadata": {},
     "output_type": "execute_result"
    }
   ],
   "source": [
    "def score(yp,yt):\n",
    "    u=((yt-yp)**2).sum()\n",
    "    v=((yt-yt.mean())**2).sum()\n",
    "    score=1-(u/v)\n",
    "    return score\n",
    "train[:,M-1]"
   ]
  },
  {
   "cell_type": "code",
   "execution_count": 164,
   "metadata": {},
   "outputs": [
    {
     "name": "stdout",
     "output_type": "stream",
     "text": [
      "[2.15233488e+30 5.96803997e+30 1.14026431e+38] 1.1253021122833853e+35\n"
     ]
    }
   ],
   "source": [
    "m,c = run()\n",
    "print(m,c)"
   ]
  },
  {
   "cell_type": "code",
   "execution_count": 165,
   "metadata": {},
   "outputs": [
    {
     "data": {
      "text/plain": [
       "array([1.16031129e+41, 1.15471259e+41, 1.14669654e+41, ...,\n",
       "       1.15063045e+41, 1.15618353e+41, 1.16188485e+41])"
      ]
     },
     "execution_count": 165,
     "metadata": {},
     "output_type": "execute_result"
    }
   ],
   "source": [
    "\n",
    "yp=np.zeros(len(test_data))\n",
    "yp_train=np.zeros(len(train))\n",
    "#yp_test=np.zeros(len(test))\n",
    "\"\"\"for i in range(len(train)):\n",
    "    for j in range(M-1):\n",
    "        yp_train[i]+=(m[j]*train[i,j])\n",
    "    yp_train[i]+=c\n",
    "for i in range(len(test)):\n",
    "    for j in range(M-1):\n",
    "        yp_test[i]+=(m[j]*test[i,j])\n",
    "    yp_test[i]+=c\"\"\"\n",
    "for i in range(len(test)):\n",
    "    for j in range(M-1):\n",
    "        yp[i]+=(m[j]*test[i,j])\n",
    "    yp[i]+=c\n",
    "yp"
   ]
  },
  {
   "cell_type": "code",
   "execution_count": 166,
   "metadata": {},
   "outputs": [],
   "source": [
    "np.savetxt(\"pred2.csv\", yp, delimiter=\",\")"
   ]
  }
 ],
 "metadata": {
  "kernelspec": {
   "display_name": "Python 3",
   "language": "python",
   "name": "python3"
  },
  "language_info": {
   "codemirror_mode": {
    "name": "ipython",
    "version": 3
   },
   "file_extension": ".py",
   "mimetype": "text/x-python",
   "name": "python",
   "nbconvert_exporter": "python",
   "pygments_lexer": "ipython3",
   "version": "3.6.4"
  }
 },
 "nbformat": 4,
 "nbformat_minor": 2
}
