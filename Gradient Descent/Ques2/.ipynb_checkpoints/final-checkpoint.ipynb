{
 "cells": [
  {
   "cell_type": "code",
   "execution_count": 174,
   "metadata": {},
   "outputs": [],
   "source": [
    "import numpy as np\n",
    "import pandas as pd\n",
    "from sklearn import preprocessing\n",
    "from sklearn.ensemble import RandomForestRegressor"
   ]
  },
  {
   "cell_type": "code",
   "execution_count": 175,
   "metadata": {},
   "outputs": [],
   "source": [
    "data = np.loadtxt(\"C:/Users/raj/Downloads/power_plant_train.csv\",delimiter=\",\")\n",
    "#data=normalise(data)\n",
    "#x_train,x_test,y_train,y_test = model_selection.train_test_split(x,y)\n",
    "x_train = data[:,0:len(data[0])-1]\n",
    "y_train = data[:,len(data[0])-1]\n",
    "data_test = np.loadtxt(\"C:/Users/raj/Downloads/power_pant_test.csv\",delimiter=\",\")\n",
    "#data_test=normalise(data_test)\n",
    "x_test = data_test[:,:]\n",
    "\n"
   ]
  },
  {
   "cell_type": "code",
   "execution_count": 176,
   "metadata": {},
   "outputs": [
    {
     "data": {
      "text/html": [
       "<div>\n",
       "<style scoped>\n",
       "    .dataframe tbody tr th:only-of-type {\n",
       "        vertical-align: middle;\n",
       "    }\n",
       "\n",
       "    .dataframe tbody tr th {\n",
       "        vertical-align: top;\n",
       "    }\n",
       "\n",
       "    .dataframe thead th {\n",
       "        text-align: right;\n",
       "    }\n",
       "</style>\n",
       "<table border=\"1\" class=\"dataframe\">\n",
       "  <thead>\n",
       "    <tr style=\"text-align: right;\">\n",
       "      <th></th>\n",
       "      <th>0</th>\n",
       "      <th>1</th>\n",
       "      <th>2</th>\n",
       "      <th>0_0</th>\n",
       "      <th>1_1</th>\n",
       "      <th>2_2</th>\n",
       "      <th>0_0_0</th>\n",
       "      <th>0_1</th>\n",
       "      <th>1_2</th>\n",
       "      <th>2_3</th>\n",
       "      <th>3_0</th>\n",
       "    </tr>\n",
       "  </thead>\n",
       "  <tbody>\n",
       "    <tr>\n",
       "      <th>0</th>\n",
       "      <td>11.95</td>\n",
       "      <td>42.03</td>\n",
       "      <td>1017.58</td>\n",
       "      <td>142.8025</td>\n",
       "      <td>1766.5209</td>\n",
       "      <td>1.035469e+06</td>\n",
       "      <td>1706.489875</td>\n",
       "      <td>53.98</td>\n",
       "      <td>1059.61</td>\n",
       "      <td>1108.47</td>\n",
       "      <td>102.84</td>\n",
       "    </tr>\n",
       "    <tr>\n",
       "      <th>1</th>\n",
       "      <td>12.07</td>\n",
       "      <td>38.25</td>\n",
       "      <td>1012.67</td>\n",
       "      <td>145.6849</td>\n",
       "      <td>1463.0625</td>\n",
       "      <td>1.025501e+06</td>\n",
       "      <td>1758.416743</td>\n",
       "      <td>50.32</td>\n",
       "      <td>1050.92</td>\n",
       "      <td>1094.33</td>\n",
       "      <td>93.73</td>\n",
       "    </tr>\n",
       "    <tr>\n",
       "      <th>2</th>\n",
       "      <td>26.91</td>\n",
       "      <td>74.99</td>\n",
       "      <td>1005.64</td>\n",
       "      <td>724.1481</td>\n",
       "      <td>5623.5001</td>\n",
       "      <td>1.011312e+06</td>\n",
       "      <td>19486.825371</td>\n",
       "      <td>101.90</td>\n",
       "      <td>1080.63</td>\n",
       "      <td>1084.62</td>\n",
       "      <td>105.89</td>\n",
       "    </tr>\n",
       "    <tr>\n",
       "      <th>3</th>\n",
       "      <td>20.58</td>\n",
       "      <td>39.53</td>\n",
       "      <td>1005.68</td>\n",
       "      <td>423.5364</td>\n",
       "      <td>1562.6209</td>\n",
       "      <td>1.011392e+06</td>\n",
       "      <td>8716.379112</td>\n",
       "      <td>60.11</td>\n",
       "      <td>1045.21</td>\n",
       "      <td>1067.77</td>\n",
       "      <td>82.67</td>\n",
       "    </tr>\n",
       "    <tr>\n",
       "      <th>4</th>\n",
       "      <td>16.78</td>\n",
       "      <td>37.20</td>\n",
       "      <td>1011.97</td>\n",
       "      <td>281.5684</td>\n",
       "      <td>1383.8400</td>\n",
       "      <td>1.024083e+06</td>\n",
       "      <td>4724.717752</td>\n",
       "      <td>53.98</td>\n",
       "      <td>1049.17</td>\n",
       "      <td>1080.91</td>\n",
       "      <td>85.72</td>\n",
       "    </tr>\n",
       "  </tbody>\n",
       "</table>\n",
       "</div>"
      ],
      "text/plain": [
       "       0      1        2       0_0        1_1           2_2         0_0_0  \\\n",
       "0  11.95  42.03  1017.58  142.8025  1766.5209  1.035469e+06   1706.489875   \n",
       "1  12.07  38.25  1012.67  145.6849  1463.0625  1.025501e+06   1758.416743   \n",
       "2  26.91  74.99  1005.64  724.1481  5623.5001  1.011312e+06  19486.825371   \n",
       "3  20.58  39.53  1005.68  423.5364  1562.6209  1.011392e+06   8716.379112   \n",
       "4  16.78  37.20  1011.97  281.5684  1383.8400  1.024083e+06   4724.717752   \n",
       "\n",
       "      0_1      1_2      2_3     3_0  \n",
       "0   53.98  1059.61  1108.47  102.84  \n",
       "1   50.32  1050.92  1094.33   93.73  \n",
       "2  101.90  1080.63  1084.62  105.89  \n",
       "3   60.11  1045.21  1067.77   82.67  \n",
       "4   53.98  1049.17  1080.91   85.72  "
      ]
     },
     "execution_count": 176,
     "metadata": {},
     "output_type": "execute_result"
    }
   ],
   "source": [
    "df=pd.DataFrame(x_test)\n",
    "df['0_0']=df[0]**2\n",
    "df['1_1']=df[1]**2\n",
    "df['2_2']=df[2]**2\n",
    "df['0_0_0']=df[0]**3\n",
    "df['0_1']=df[0]+df[1]\n",
    "df['1_2']=df[1]+df[2]\n",
    "df['2_3']=df[2]+df[3]\n",
    "df['3_0']=df[3]+df[0]\n",
    "#del df[3]\n",
    "df.drop(3,axis=1,inplace=True)\n",
    "x_test=df.values\n",
    "df.head()\n"
   ]
  },
  {
   "cell_type": "code",
   "execution_count": 177,
   "metadata": {},
   "outputs": [],
   "source": [
    "df=pd.DataFrame(x_train)\n",
    "df['0_0']=df[0]**2\n",
    "df['1_1']=df[1]**2\n",
    "df['2_2']=df[2]**2\n",
    "df['0_0_0']=df[0]**3\n",
    "df['0_1']=df[0]+df[1]\n",
    "df['1_2']=df[1]+df[2]\n",
    "df['2_3']=df[2]+df[3]\n",
    "df['3_0']=df[3]+df[0]\n",
    "df.drop(3,axis=1,inplace=True)\n",
    "x_train=df.values\n"
   ]
  },
  {
   "cell_type": "code",
   "execution_count": 178,
   "metadata": {},
   "outputs": [
    {
     "data": {
      "text/plain": [
       "array([[0.19935218, 0.2316726 , 0.69636229, ..., 0.41721961, 0.77704589,\n",
       "        0.57609254],\n",
       "       [0.58833922, 0.58434164, 0.60183123, ..., 0.67616119, 0.53756838,\n",
       "        0.51928021],\n",
       "       [0.43669022, 0.41921708, 0.46176689, ..., 0.43437449, 0.6085743 ,\n",
       "        0.60758355],\n",
       "       ...,\n",
       "       [0.82420495, 0.78256228, 0.40757238, ..., 0.72940605, 0.42759853,\n",
       "        0.59652956],\n",
       "       [0.42873969, 0.51494662, 0.61989607, ..., 0.62485839, 0.51099699,\n",
       "        0.4096401 ],\n",
       "       [0.83333333, 0.65266904, 0.44048503, ..., 0.63278848, 0.25510774,\n",
       "        0.3848329 ]])"
      ]
     },
     "execution_count": 178,
     "metadata": {},
     "output_type": "execute_result"
    }
   ],
   "source": [
    "scaler=preprocessing.MinMaxScaler()\n",
    "scaler.fit(x_train)\n",
    "x_train=scaler.transform(x_train)\n",
    "x_test=scaler.transform(x_test)\n",
    "x_train"
   ]
  },
  {
   "cell_type": "code",
   "execution_count": 179,
   "metadata": {},
   "outputs": [
    {
     "data": {
      "text/plain": [
       "0.9920482668417377"
      ]
     },
     "execution_count": 179,
     "metadata": {},
     "output_type": "execute_result"
    }
   ],
   "source": [
    "alg1 = RandomForestRegressor()\n",
    "alg1\n",
    "alg1.fit(x_train,y_train)\n",
    "y_test = alg1.predict(x_test)\n",
    "alg1.score(x_train,y_train)"
   ]
  },
  {
   "cell_type": "code",
   "execution_count": 180,
   "metadata": {},
   "outputs": [],
   "source": [
    "np.savetxt(\"C:/Users/raj/Desktop/f2.csv\", y_test, delimiter=\",\")"
   ]
  }
 ],
 "metadata": {
  "kernelspec": {
   "display_name": "Python 3",
   "language": "python",
   "name": "python3"
  },
  "language_info": {
   "codemirror_mode": {
    "name": "ipython",
    "version": 3
   },
   "file_extension": ".py",
   "mimetype": "text/x-python",
   "name": "python",
   "nbconvert_exporter": "python",
   "pygments_lexer": "ipython3",
   "version": "3.6.4"
  }
 },
 "nbformat": 4,
 "nbformat_minor": 2
}
