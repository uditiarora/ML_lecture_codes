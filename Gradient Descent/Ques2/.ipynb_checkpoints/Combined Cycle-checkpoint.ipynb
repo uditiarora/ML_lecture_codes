{
 "cells": [
  {
   "cell_type": "code",
   "execution_count": 8,
   "metadata": {},
   "outputs": [],
   "source": [
    "from sklearn import model_selection\n",
    "import numpy as np\n"
   ]
  },
  {
   "cell_type": "code",
   "execution_count": 12,
   "metadata": {},
   "outputs": [
    {
     "name": "stdout",
     "output_type": "stream",
     "text": [
      "[   8.58   38.38 1021.03   84.37  482.26]\n",
      "[  19.62971154   54.28815357 1013.26303233   73.275818    454.4312932 ]\n"
     ]
    }
   ],
   "source": [
    "train_data=np.loadtxt('train.csv',delimiter=\",\")\n",
    "test_data=np.loadtxt('test.csv',delimiter=\",\")\n",
    "\n",
    "\n",
    "\n",
    "print(train_data[0])\n",
    "print(np.mean(train_data,axis=0))"
   ]
  },
  {
   "cell_type": "code",
   "execution_count": 10,
   "metadata": {},
   "outputs": [],
   "source": [
    "arr = np.concatenate((train_data[:,0:(len(train_data[0])-1)], test_data),axis=0)\n",
    "for i in range(len(arr)):\n",
    "    for j in range(len(arr[0])):\n",
    "        arr[i,j] = (arr[i,j] - arr[:,j].min())/(arr[:,j].max() - arr[:,j].min())"
   ]
  },
  {
   "cell_type": "code",
   "execution_count": 33,
   "metadata": {},
   "outputs": [
    {
     "data": {
      "text/plain": [
       "array([  11.95,   42.03, 1017.58,   90.89])"
      ]
     },
     "execution_count": 33,
     "metadata": {},
     "output_type": "execute_result"
    }
   ],
   "source": [
    "data_train=train_data.copy()\n",
    "data_test=test_data.copy()\n",
    "sd=np.std(train_data, axis=0)\n",
    "sdt=np.std(test_data, axis=0)\n",
    "mtr=np.mean(train_data, axis=0)\n",
    "mts=np.mean(test_data,axis=0)\n",
    "data_test[0]"
   ]
  },
  {
   "cell_type": "code",
   "execution_count": 34,
   "metadata": {},
   "outputs": [
    {
     "data": {
      "text/plain": [
       "array([-1.02742256, -0.96138014,  0.72378329,  1.20446479])"
      ]
     },
     "execution_count": 34,
     "metadata": {},
     "output_type": "execute_result"
    }
   ],
   "source": [
    "\n",
    "\n",
    "\n",
    "\n",
    "\n",
    "for i in range(len(data_train)):\n",
    "    for j in range(len(data_train[0])-1):\n",
    "        data_train[i,j]= (data_train[i,j]-mtr[j])/(sd[j])\n",
    "        \n",
    "for i in range(len(data_test)):\n",
    "    for j in range(len(data_test[0])):\n",
    "        data_test[i,j]= (data_test[i,j]-mtr[j])/(sd[j])\n",
    "data_test[0]"
   ]
  },
  {
   "cell_type": "code",
   "execution_count": null,
   "metadata": {},
   "outputs": [],
   "source": []
  },
  {
   "cell_type": "code",
   "execution_count": 21,
   "metadata": {},
   "outputs": [
    {
     "data": {
      "text/plain": [
       "array([0.32115201, 0.52235942, 0.98478588, 0.90748595])"
      ]
     },
     "execution_count": 21,
     "metadata": {},
     "output_type": "execute_result"
    }
   ],
   "source": [
    "train = arr[0:len(train_data),:]\n",
    "test = arr[len(train_data):,:]\n",
    "N=len(train)\n",
    "M=len(train[0])\n",
    "train[0]\n",
    "test[0]"
   ]
  },
  {
   "cell_type": "code",
   "execution_count": 14,
   "metadata": {},
   "outputs": [],
   "source": [
    "def step_gradient(points,learning_rate,m,c):\n",
    "    m_slope=np.zeros(M-1)\n",
    "    c_slope=0\n",
    "    for i in range(N):\n",
    "        y=points[i,M-1]\n",
    "        for j in range(M-1):\n",
    "            x=points[i,j]\n",
    "            m_slope[j]+=(-2/N)*(y-m[j]*x-c)*x\n",
    "            c_slope+=(-2/N)*(y-m[j]*x-c)\n",
    "    m_new=m-learning_rate*m_slope\n",
    "    c_new=c-learning_rate*c_slope\n",
    " \n",
    "    return m_new,c_new"
   ]
  },
  {
   "cell_type": "code",
   "execution_count": 15,
   "metadata": {},
   "outputs": [],
   "source": [
    "def gd(points,learning_rate,num_iteration):\n",
    "    m=np.zeros(M-1)\n",
    "    c=0\n",
    "    for i in range(num_iteration):\n",
    "        m,c=step_gradient(points,learning_rate, m,c)\n",
    "       \n",
    "    return m,c\n",
    "    "
   ]
  },
  {
   "cell_type": "code",
   "execution_count": 16,
   "metadata": {},
   "outputs": [],
   "source": [
    "def run():\n",
    "    \n",
    "    learning_rate=0.01\n",
    "    num_iteration=55\n",
    "    m,c= gd(train,learning_rate,num_iteration)\n",
    "    \n",
    "    return m,c\n"
   ]
  },
  {
   "cell_type": "code",
   "execution_count": 17,
   "metadata": {},
   "outputs": [
    {
     "data": {
      "text/plain": [
       "array([0.7883378 , 0.66368682, 0.78491665, ..., 0.64566319, 0.63454949,\n",
       "       0.47765608])"
      ]
     },
     "execution_count": 17,
     "metadata": {},
     "output_type": "execute_result"
    }
   ],
   "source": [
    "def score(yp,yt):\n",
    "    u=((yt-yp)**2).sum()\n",
    "    v=((yt-yt.mean())**2).sum()\n",
    "    score=1-(u/v)\n",
    "    return score\n",
    "train[:,M-1]"
   ]
  },
  {
   "cell_type": "code",
   "execution_count": 18,
   "metadata": {},
   "outputs": [
    {
     "name": "stdout",
     "output_type": "stream",
     "text": [
      "[-10.94212453, -10.01350111, 6.67178024, 4.22201945] 449.745609222276\n"
     ]
    }
   ],
   "source": [
    "m = [-10.94212453 ,-10.01350111 ,  6.67178024  , 4.22201945]\n",
    "c = 449.745609222276\n",
    "print(m,c)"
   ]
  },
  {
   "cell_type": "code",
   "execution_count": 22,
   "metadata": {},
   "outputs": [
    {
     "data": {
      "text/plain": [
       "array([447.5711523 , 447.97702958, 438.95271619, ..., 435.39709445,\n",
       "       438.34273972, 435.46176382])"
      ]
     },
     "execution_count": 22,
     "metadata": {},
     "output_type": "execute_result"
    }
   ],
   "source": [
    "\n",
    "yp=np.zeros(len(test_data))\n",
    "yp_train=np.zeros(len(train))\n",
    "#yp_test=np.zeros(len(test))\n",
    "\"\"\"for i in range(len(train)):\n",
    "    for j in range(M-1):\n",
    "        yp_train[i]+=(m[j]*train[i,j])\n",
    "    yp_train[i]+=c\n",
    "for i in range(len(test)):\n",
    "    for j in range(M-1):\n",
    "        yp_test[i]+=(m[j]*test[i,j])\n",
    "    yp_test[i]+=c\"\"\"\n",
    "for i in range(len(test)):\n",
    "    for j in range(M-1):\n",
    "        yp[i]+=(m[j]*test[i,j])\n",
    "    yp[i]+=c\n",
    "yp"
   ]
  },
  {
   "cell_type": "code",
   "execution_count": 23,
   "metadata": {},
   "outputs": [],
   "source": [
    "np.savetxt(\"pred2.csv\", yp, delimiter=\",\")"
   ]
  }
 ],
 "metadata": {
  "kernelspec": {
   "display_name": "Python 3",
   "language": "python",
   "name": "python3"
  },
  "language_info": {
   "codemirror_mode": {
    "name": "ipython",
    "version": 3
   },
   "file_extension": ".py",
   "mimetype": "text/x-python",
   "name": "python",
   "nbconvert_exporter": "python",
   "pygments_lexer": "ipython3",
   "version": "3.6.4"
  }
 },
 "nbformat": 4,
 "nbformat_minor": 2
}
