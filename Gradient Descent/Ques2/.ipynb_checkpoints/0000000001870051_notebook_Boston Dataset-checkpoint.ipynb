{
 "cells": [
  {
   "cell_type": "code",
   "execution_count": 20,
   "metadata": {},
   "outputs": [],
   "source": [
    "from sklearn import model_selection\n",
    "import numpy as np\n"
   ]
  },
  {
   "cell_type": "code",
   "execution_count": 604,
   "metadata": {},
   "outputs": [
    {
     "name": "stdout",
     "output_type": "stream",
     "text": [
      "19.62971153846154\n",
      "[  19.62971154   54.28815357 1013.26303233   73.275818    454.4312932 ]\n"
     ]
    }
   ],
   "source": [
    "train_data=np.loadtxt('trainc.csv',delimiter=\",\")\n",
    "test_data=np.loadtxt('testc.csv',delimiter=\",\")\n",
    "\n",
    "\n",
    "\n",
    "print(train_data[:,0].mean())\n",
    "print(np.mean(train_data,axis=0))"
   ]
  },
  {
   "cell_type": "code",
   "execution_count": 714,
   "metadata": {},
   "outputs": [
    {
     "data": {
      "text/plain": [
       "array([  11.95,   42.03, 1017.58,   90.89])"
      ]
     },
     "execution_count": 714,
     "metadata": {},
     "output_type": "execute_result"
    }
   ],
   "source": [
    "data_train=train_data.copy()\n",
    "data_test=test_data.copy()\n",
    "sd=np.std(train_data, axis=0)\n",
    "sdt=np.std(test_data, axis=0)\n",
    "mtr=np.mean(train_data, axis=0)\n",
    "mts=np.mean(test_data,axis=0)\n",
    "data_test[0]"
   ]
  },
  {
   "cell_type": "code",
   "execution_count": 715,
   "metadata": {},
   "outputs": [
    {
     "data": {
      "text/plain": [
       "array([-1.05179958, -0.9803295 ,  0.73940279,  1.20354042])"
      ]
     },
     "execution_count": 715,
     "metadata": {},
     "output_type": "execute_result"
    }
   ],
   "source": [
    "\n",
    "\n",
    "\n",
    "\n",
    "\n",
    "for i in range(len(data_train)):\n",
    "    for j in range(len(data_train[0])-1):\n",
    "        data_train[i,j]= (data_train[i,j]-mtr[j])/(sd[j])\n",
    "        \n",
    "for i in range(len(data_test)):\n",
    "    for j in range(len(data_test[0])):\n",
    "        data_test[i,j]= (data_test[i,j]-mts[j])/(sdt[j])\n",
    "data_test[0]"
   ]
  },
  {
   "cell_type": "code",
   "execution_count": 716,
   "metadata": {},
   "outputs": [
    {
     "data": {
      "text/plain": [
       "array([   8.58,   38.38, 1021.03,   84.37,  482.26])"
      ]
     },
     "execution_count": 716,
     "metadata": {},
     "output_type": "execute_result"
    }
   ],
   "source": [
    "train,test=model_selection.train_test_split(data_train)\n",
    "N=len(train)\n",
    "M=len(train[0])\n",
    "train_data[0]"
   ]
  },
  {
   "cell_type": "code",
   "execution_count": 717,
   "metadata": {},
   "outputs": [],
   "source": [
    "def step_gradient(points,learning_rate,m,c):\n",
    "    m_slope=np.zeros(M-1)\n",
    "    c_slope=0\n",
    "    for i in range(N):\n",
    "        y=points[i,M-1]\n",
    "        for j in range(M-1):\n",
    "            x=points[i,j]\n",
    "            m_slope[j]+=(-2/N)*(y-m[j]*x-c)*x\n",
    "            c_slope+=(-2/N)*(y-m[j]*x-c)\n",
    "    m_new=m-learning_rate*m_slope\n",
    "    c_new=c-learning_rate*c_slope\n",
    " \n",
    "    return m_new,c_new"
   ]
  },
  {
   "cell_type": "code",
   "execution_count": 718,
   "metadata": {},
   "outputs": [],
   "source": [
    "def gd(points,learning_rate,num_iteration):\n",
    "    m=np.zeros(M-1)\n",
    "    c=0\n",
    "    for i in range(num_iteration):\n",
    "        m,c=step_gradient(points,learning_rate, m,c)\n",
    "       \n",
    "    return m,c\n",
    "    "
   ]
  },
  {
   "cell_type": "code",
   "execution_count": 719,
   "metadata": {},
   "outputs": [],
   "source": [
    "def run():\n",
    "    \n",
    "    learning_rate=0.01\n",
    "    num_iteration=55\n",
    "    m,c= gd(train,learning_rate,num_iteration)\n",
    "    \n",
    "    return m,c\n"
   ]
  },
  {
   "cell_type": "code",
   "execution_count": 720,
   "metadata": {},
   "outputs": [
    {
     "data": {
      "text/plain": [
       "array([463.3 , 472.62, 450.57, ..., 479.95, 446.77, 432.93])"
      ]
     },
     "execution_count": 720,
     "metadata": {},
     "output_type": "execute_result"
    }
   ],
   "source": [
    "def score(yp,yt):\n",
    "    u=((yt-yp)**2).sum()\n",
    "    v=((yt-yt.mean())**2).sum()\n",
    "    score=1-(u/v)\n",
    "    return score\n",
    "train[:,M-1]"
   ]
  },
  {
   "cell_type": "code",
   "execution_count": 721,
   "metadata": {},
   "outputs": [
    {
     "name": "stdout",
     "output_type": "stream",
     "text": [
      "[-10.94212453 -10.01350111   6.67178024   4.22201945] 449.745609222276\n"
     ]
    }
   ],
   "source": [
    "m,c=run()\n",
    "print(m,c)"
   ]
  },
  {
   "cell_type": "code",
   "execution_count": 722,
   "metadata": {},
   "outputs": [
    {
     "data": {
      "text/plain": [
       "array([481.08556572, 475.64425951, 415.61475858, ..., 434.09278876,\n",
       "       451.81321663, 451.90047658])"
      ]
     },
     "execution_count": 722,
     "metadata": {},
     "output_type": "execute_result"
    }
   ],
   "source": [
    "\n",
    "yp=np.zeros(len(test_data))\n",
    "yp_train=np.zeros(len(train))\n",
    "yp_test=np.zeros(len(test))\n",
    "for i in range(len(train)):\n",
    "    for j in range(M-1):\n",
    "        yp_train[i]+=(m[j]*train[i,j])\n",
    "    yp_train[i]+=c\n",
    "for i in range(len(test)):\n",
    "    for j in range(M-1):\n",
    "        yp_test[i]+=(m[j]*test[i,j])\n",
    "    yp_test[i]+=c\n",
    "for i in range(len(data_test)):\n",
    "    for j in range(M-1):\n",
    "        yp[i]+=(m[j]*data_test[i,j])\n",
    "    yp[i]+=c\n",
    "yp"
   ]
  },
  {
   "cell_type": "code",
   "execution_count": 723,
   "metadata": {},
   "outputs": [],
   "source": [
    "np.savetxt(\"pred2.csv\", yp, fmt='%.1f', delimiter=\",\")"
   ]
  }
 ],
 "metadata": {
  "kernelspec": {
   "display_name": "Python 3",
   "language": "python",
   "name": "python3"
  },
  "language_info": {
   "codemirror_mode": {
    "name": "ipython",
    "version": 3
   },
   "file_extension": ".py",
   "mimetype": "text/x-python",
   "name": "python",
   "nbconvert_exporter": "python",
   "pygments_lexer": "ipython3",
   "version": "3.6.4"
  }
 },
 "nbformat": 4,
 "nbformat_minor": 2
}
