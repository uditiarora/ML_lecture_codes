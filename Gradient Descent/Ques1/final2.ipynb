{
 "cells": [
  {
   "cell_type": "code",
   "execution_count": 1,
   "metadata": {},
   "outputs": [],
   "source": [
    "import numpy as np\n",
    "from sklearn import datasets"
   ]
  },
  {
   "cell_type": "code",
   "execution_count": null,
   "metadata": {},
   "outputs": [],
   "source": []
  },
  {
   "cell_type": "code",
   "execution_count": 2,
   "metadata": {},
   "outputs": [],
   "source": [
    "boston_train = np.loadtxt (\"train.csv\", delimiter =\",\")"
   ]
  },
  {
   "cell_type": "code",
   "execution_count": 3,
   "metadata": {},
   "outputs": [],
   "source": [
    "boston_train = np.delete(boston_train, 8, 1)"
   ]
  },
  {
   "cell_type": "code",
   "execution_count": 4,
   "metadata": {},
   "outputs": [
    {
     "data": {
      "text/plain": [
       "array([[-0.40784991, -0.48772236, -1.2660231 , ...,  0.41057102,\n",
       "        -1.09799011, 37.9       ],\n",
       "       [-0.40737368, -0.48772236,  0.24705682, ...,  0.29116915,\n",
       "        -0.52047412, 21.4       ],\n",
       "       [ 0.1251786 , -0.48772236,  1.01599907, ..., -3.79579542,\n",
       "         0.89107588, 12.7       ],\n",
       "       ...,\n",
       "       [-0.40831101, -0.48772236,  0.24705682, ...,  0.33206621,\n",
       "        -0.33404299, 20.8       ],\n",
       "       [-0.41061997, -0.48772236, -1.15221381, ...,  0.203235  ,\n",
       "        -0.74475218, 22.6       ],\n",
       "       [ 0.34290895, -0.48772236,  1.01599907, ...,  0.38787479,\n",
       "        -1.35871335, 50.        ]])"
      ]
     },
     "execution_count": 4,
     "metadata": {},
     "output_type": "execute_result"
    }
   ],
   "source": [
    "boston_train"
   ]
  },
  {
   "cell_type": "code",
   "execution_count": 5,
   "metadata": {},
   "outputs": [],
   "source": [
    "boston_train = np.insert(boston_train,12,boston_train[:,5]**2,axis=1)\n",
    "boston_train = np.insert(boston_train,12,boston_train[:,3]**2,axis=1)\n",
    "#boston_train = np.insert(boston_train,12,boston_train[:,7]**2,axis=1)\n",
    "boston_train = np.insert(boston_train,12,boston_train[:,11]**2,axis=1)\n",
    "boston_train = np.insert(boston_train,12,boston_train[:,10]**2,axis=1)\n",
    "boston_train = np.insert(boston_train,12,boston_train[:,1]**2,axis=1)\n",
    "boston_train = np.insert(boston_train,12,(boston_train[:,1]*boston_train[:,5]),axis=1)\n",
    "boston_train = np.insert(boston_train,12,(boston_train[:,10]*boston_train[:,5]),axis=1)\n",
    "boston_train = np.insert(boston_train,12,(boston_train[:,10]*boston_train[:,5])**2,axis=1)\n",
    "boston_train = np.insert(boston_train,12,(boston_train[:,1]*boston_train[:,5])**2,axis=1)\n",
    "boston_train = np.insert(boston_train,12,(boston_train[:,11]*boston_train[:,10]),axis=1)\n",
    "boston_train = np.insert(boston_train,12,(boston_train[:,8]*boston_train[:,1])**2,axis=1)\n",
    "boston_train = np.insert(boston_train,12,(boston_train[:,9]*boston_train[:,1])**2,axis=1)\n",
    "boston_train = np.insert(boston_train,12,(boston_train[:,9]*boston_train[:,1]),axis=1)"
   ]
  },
  {
   "cell_type": "code",
   "execution_count": 6,
   "metadata": {},
   "outputs": [],
   "source": [
    "#boston_train = np.insert(boston_train,12,boston_train[:,4]**2,axis=1)"
   ]
  },
  {
   "cell_type": "code",
   "execution_count": 7,
   "metadata": {},
   "outputs": [],
   "source": [
    "#boston_train = np.insert(boston_train,12,boston_train[:,4]*boston_train[:,5],axis=1)"
   ]
  },
  {
   "cell_type": "code",
   "execution_count": 6,
   "metadata": {},
   "outputs": [],
   "source": [
    "boston_train = np.insert(boston_train,12,boston_train[:,6]*boston_train[:,5],axis=1)"
   ]
  },
  {
   "cell_type": "code",
   "execution_count": 7,
   "metadata": {},
   "outputs": [],
   "source": [
    "boston_train = np.insert(boston_train,12,boston_train[:,8]**2,axis=1)\n",
    "boston_train = np.insert(boston_train,12,boston_train[:,8]*boston_train[:,5],axis=1)\n",
    "boston_train = np.insert(boston_train,12,boston_train[:,6]*boston_train[:,8],axis=1)"
   ]
  },
  {
   "cell_type": "code",
   "execution_count": 8,
   "metadata": {},
   "outputs": [],
   "source": [
    "boston_train = np.insert(boston_train,12,boston_train[:,9]**2,axis=1)"
   ]
  },
  {
   "cell_type": "code",
   "execution_count": 9,
   "metadata": {},
   "outputs": [],
   "source": [
    "boston_train = np.insert(boston_train,12,boston_train[:,9]*boston_train[:,5],axis=1)\n",
    "\n",
    "boston_train = np.insert(boston_train,12,(boston_train[:,9]*boston_train[:,5])**2,axis=1)"
   ]
  },
  {
   "cell_type": "code",
   "execution_count": 10,
   "metadata": {},
   "outputs": [],
   "source": [
    "boston_train = np.insert(boston_train,12,boston_train[:,6]*boston_train[:,9],axis=1)"
   ]
  },
  {
   "cell_type": "code",
   "execution_count": 11,
   "metadata": {},
   "outputs": [],
   "source": [
    "boston_train = np.insert(boston_train,12,boston_train[:,0]**2,axis=1)"
   ]
  },
  {
   "cell_type": "code",
   "execution_count": 12,
   "metadata": {},
   "outputs": [],
   "source": [
    "def stepgrad(data,learning_rate,m):\n",
    "    m_slope = np.zeros(data.shape[1]-1)\n",
    "    M = len(data)\n",
    "    y = data[:,data.shape[1]-1]\n",
    "    x = data[:,:data.shape[1]-1]\n",
    "    m_temp= np.zeros(len(data))\n",
    "    m_temp = x.dot(m)\n",
    "#    for i in range(len(data)):\n",
    "#        \n",
    "#        for j in range(data.shape[1]-1):\n",
    "#            x = data[i,j]\n",
    "#            m_temp[i] += m[j]*x\n",
    "#            m_slope[j] += (-2/M)*((y[i] - m_temp[i])*data[i][j])\n",
    "    for j in range(data.shape[1]-1):    \n",
    "        for i in range(len(data)):\n",
    "            m_slope[j] += (-2/M)*((y[i] - m_temp[i])*data[i][j])\n",
    "    new_m = m -learning_rate *m_slope\n",
    "    return new_m "
   ]
  },
  {
   "cell_type": "code",
   "execution_count": 13,
   "metadata": {},
   "outputs": [],
   "source": [
    "def gd(data,learning_rate,num_iterations):\n",
    "    m = np.zeros(data.shape[1]-1)\n",
    "    for i in range(num_iterations):\n",
    "        m= stepgrad(data , learning_rate,m)\n",
    "        #print(i, \" Cost: \", cost(data, m, c))\n",
    "    return m\n",
    "   "
   ]
  },
  {
   "cell_type": "code",
   "execution_count": 14,
   "metadata": {},
   "outputs": [],
   "source": [
    "#def cost(points, m, c):\n",
    "#    total_cost = 0\n",
    "#    M = len(points)\n",
    "#    for i in range(M):\n",
    "#        x = points[i, 0]\n",
    "#        y = points[i, 1]\n",
    "#        total_cost += (1/M)*((y - m*x - c)**2)\n",
    "#    return total_cost"
   ]
  },
  {
   "cell_type": "code",
   "execution_count": 15,
   "metadata": {},
   "outputs": [],
   "source": [
    "def run(data):\n",
    "    data_new=np.insert(data, data.shape[1]-1, 1, axis=1)\n",
    "    learning_rate= 0.01\n",
    "    num_iterations = 10000\n",
    "    m = gd(data_new,learning_rate,num_iterations)\n",
    "    return m"
   ]
  },
  {
   "cell_type": "code",
   "execution_count": 16,
   "metadata": {},
   "outputs": [],
   "source": [
    "def predict(test_data, m):\n",
    "    test_data = np.insert(test_data, test_data.shape[1],1,axis = 1)\n",
    "    y_pred = test_data.dot(m)\n",
    "    return y_pred"
   ]
  },
  {
   "cell_type": "code",
   "execution_count": 17,
   "metadata": {},
   "outputs": [],
   "source": [
    "m = run(boston_train)\n"
   ]
  },
  {
   "cell_type": "code",
   "execution_count": 18,
   "metadata": {},
   "outputs": [
    {
     "data": {
      "text/plain": [
       "(35,)"
      ]
     },
     "execution_count": 18,
     "metadata": {},
     "output_type": "execute_result"
    }
   ],
   "source": [
    "m.shape"
   ]
  },
  {
   "cell_type": "code",
   "execution_count": 20,
   "metadata": {},
   "outputs": [],
   "source": [
    "x_test = np.loadtxt(\"test.csv\",delimiter=\",\")"
   ]
  },
  {
   "cell_type": "code",
   "execution_count": 21,
   "metadata": {},
   "outputs": [],
   "source": [
    "x_test = np.delete(x_test, 8, 1)"
   ]
  },
  {
   "cell_type": "code",
   "execution_count": null,
   "metadata": {},
   "outputs": [],
   "source": []
  },
  {
   "cell_type": "code",
   "execution_count": 22,
   "metadata": {},
   "outputs": [],
   "source": [
    "x_test = np.insert(x_test,12,x_test[:,5]**2,axis=1)\n",
    "x_test = np.insert(x_test,12,x_test[:,3]**2,axis=1)\n",
    "#x_test = np.insert(x_test,12,x_test[:,7]**2,axis=1)\n",
    "x_test = np.insert(x_test,12,x_test[:,11]**2,axis=1)\n",
    "x_test = np.insert(x_test,12,x_test[:,10]**2,axis=1)\n",
    "\n",
    "x_test = np.insert(x_test,12,x_test[:,1]**2,axis=1)\n",
    "x_test = np.insert(x_test,12,(x_test[:,1]*x_test[:,5]),axis=1)\n",
    "x_test = np.insert(x_test,12,(x_test[:,10]*x_test[:,5]),axis=1)\n",
    "x_test = np.insert(x_test,12,(x_test[:,10]*x_test[:,5])**2,axis=1)\n",
    "x_test = np.insert(x_test,12,(x_test[:,1]*x_test[:,5])**2,axis=1)\n",
    "x_test = np.insert(x_test,12,(x_test[:,11]*x_test[:,10]),axis=1)\n",
    "x_test = np.insert(x_test,12,(x_test[:,8]*x_test[:,1])**2,axis=1)\n",
    "x_test = np.insert(x_test,12,(x_test[:,9]*x_test[:,1])**2,axis=1)\n",
    "x_test = np.insert(x_test,12,(x_test[:,9]*x_test[:,1]),axis=1)"
   ]
  },
  {
   "cell_type": "code",
   "execution_count": null,
   "metadata": {},
   "outputs": [],
   "source": [
    "#x_test = np.insert(x_test,12,x_test[:,4]**2,axis=1)"
   ]
  },
  {
   "cell_type": "code",
   "execution_count": null,
   "metadata": {},
   "outputs": [],
   "source": [
    "#x_test = np.insert(x_test,12,x_test[:,4]*x_test[:,5],axis=1)"
   ]
  },
  {
   "cell_type": "code",
   "execution_count": 23,
   "metadata": {},
   "outputs": [],
   "source": [
    "x_test = np.insert(x_test,12,x_test[:,6]*x_test[:,5],axis=1)"
   ]
  },
  {
   "cell_type": "code",
   "execution_count": 24,
   "metadata": {},
   "outputs": [],
   "source": [
    "x_test = np.insert(x_test,12,x_test[:,8]**2,axis=1)\n",
    "x_test = np.insert(x_test,12,x_test[:,8]*x_test[:,5],axis=1)\n",
    "x_test = np.insert(x_test,12,x_test[:,6]*x_test[:,8],axis=1)"
   ]
  },
  {
   "cell_type": "code",
   "execution_count": 25,
   "metadata": {},
   "outputs": [],
   "source": [
    "x_test = np.insert(x_test,12,x_test[:,9]**2,axis=1)"
   ]
  },
  {
   "cell_type": "code",
   "execution_count": 26,
   "metadata": {},
   "outputs": [],
   "source": [
    "x_test = np.insert(x_test,12,x_test[:,9]*x_test[:,5],axis=1)\n",
    "x_test = np.insert(x_test,12,(x_test[:,9]*x_test[:,5])**2,axis=1)"
   ]
  },
  {
   "cell_type": "code",
   "execution_count": 27,
   "metadata": {},
   "outputs": [],
   "source": [
    "x_test = np.insert(x_test,12,x_test[:,6]*x_test[:,9],axis=1)"
   ]
  },
  {
   "cell_type": "code",
   "execution_count": 28,
   "metadata": {},
   "outputs": [],
   "source": [
    "x_test = np.insert(x_test,12,x_test[:,0]**2,axis=1)"
   ]
  },
  {
   "cell_type": "code",
   "execution_count": 29,
   "metadata": {},
   "outputs": [
    {
     "data": {
      "text/plain": [
       "(127, 34)"
      ]
     },
     "execution_count": 29,
     "metadata": {},
     "output_type": "execute_result"
    }
   ],
   "source": [
    "x_test.shape"
   ]
  },
  {
   "cell_type": "code",
   "execution_count": 30,
   "metadata": {},
   "outputs": [],
   "source": [
    "y_pred = predict(x_test,m)"
   ]
  },
  {
   "cell_type": "code",
   "execution_count": 31,
   "metadata": {
    "scrolled": false
   },
   "outputs": [
    {
     "data": {
      "text/plain": [
       "array([14.68147292, 29.79799426, 22.82582065, 21.81145773, 19.85358363,\n",
       "       13.30547225, 26.52336922, 22.94536196, 19.70619678, 22.71721504,\n",
       "       25.22593643, 17.78513078, 19.18924134, 20.98940798, 50.63035392,\n",
       "       22.32378247, 25.00801461, 26.77161473, 16.78605636, 32.09045704,\n",
       "       22.08241223, 23.40617661, 35.79972388, 35.94864487, 31.679948  ,\n",
       "       17.65273893, 20.8289794 , 30.81462169, 22.40596983, 31.38626764,\n",
       "       16.99522753, 26.29338306, 22.89114698, 25.46709272, 11.81406896,\n",
       "       27.72668091, 25.51710581, 19.4741559 , 22.71530056,  8.64917659,\n",
       "       16.14343008, 25.17275135, 25.79419309, 18.49151683, 18.77513832,\n",
       "       13.28693264, 43.87186196, 24.58453669, 33.61855079, 14.0482649 ,\n",
       "       15.91196188, 46.09385523, 14.44687154, 19.40627866, 15.84296487,\n",
       "       21.44253082, 16.90454657, 21.69878769, 16.18607074, 14.87619259,\n",
       "       11.27602263, 29.78365695, 23.93370277, 26.25474007, 16.39798331,\n",
       "       15.53533947, 34.12274909, 15.25485139, 23.4725608 , 22.30114947,\n",
       "       30.06205892, 26.17167059, 16.62519947, 11.7071837 , 40.04799684,\n",
       "       24.57106814, 27.16621928, 26.01383801, 13.27027675, 28.58350927,\n",
       "       18.19871435, 20.7719386 , 21.48574099, 13.25783714, 16.41983945,\n",
       "       33.13701774, 24.75674478, 12.68625866, 20.25264636, 17.54460941,\n",
       "       21.76782422, 18.66575682, 18.91212115, 11.84203464, 21.44170069,\n",
       "       26.2577518 , 45.67018253, 18.16707347, 35.95815399, 23.75273789,\n",
       "       22.04636069, 19.78179126, 23.36611259, 30.90912035, 13.05257901,\n",
       "       25.71606968, 21.33165591, 40.96300429, 22.06368641, 14.90932699,\n",
       "       24.65428333, 15.74382729, 13.65827675, 20.04399529, 39.70159663,\n",
       "       20.21197602, 19.61931177, 24.29785089, 21.71601159, 17.6800818 ,\n",
       "       14.22427731, 34.7114417 , 22.65107395, 22.6275299 , 18.40289375,\n",
       "       19.58298168, 13.6861714 ])"
      ]
     },
     "execution_count": 31,
     "metadata": {},
     "output_type": "execute_result"
    }
   ],
   "source": [
    "y_pred"
   ]
  },
  {
   "cell_type": "code",
   "execution_count": 32,
   "metadata": {},
   "outputs": [],
   "source": [
    "np.savetxt('boston_y_pred.csv',y_pred,delimiter =\",\",fmt = \"%.5f\")"
   ]
  },
  {
   "cell_type": "code",
   "execution_count": 33,
   "metadata": {},
   "outputs": [],
   "source": [
    "import matplotlib.pyplot as plt\n"
   ]
  }
 ],
 "metadata": {
  "kernelspec": {
   "display_name": "Python 3",
   "language": "python",
   "name": "python3"
  },
  "language_info": {
   "codemirror_mode": {
    "name": "ipython",
    "version": 3
   },
   "file_extension": ".py",
   "mimetype": "text/x-python",
   "name": "python",
   "nbconvert_exporter": "python",
   "pygments_lexer": "ipython3",
   "version": "3.6.4"
  }
 },
 "nbformat": 4,
 "nbformat_minor": 2
}
