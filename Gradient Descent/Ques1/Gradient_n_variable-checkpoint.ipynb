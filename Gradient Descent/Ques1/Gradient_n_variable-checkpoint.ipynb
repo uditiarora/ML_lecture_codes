{
 "cells": [
  {
   "cell_type": "code",
   "execution_count": 1,
   "metadata": {},
   "outputs": [],
   "source": [
    "import numpy as np"
   ]
  },
  {
   "cell_type": "code",
   "execution_count": 2,
   "metadata": {},
   "outputs": [],
   "source": [
    "def cost(data,m):\n",
    "    N=len(data)\n",
    "   \n",
    "    tc=0\n",
    "    X=data[:,:13]\n",
    "    Y=data[:,13]\n",
    "    for i in range(N):\n",
    "        ans=0\n",
    "        x=X[i,]\n",
    "        y=Y[i,]\n",
    "        for j in range(13):\n",
    "            ans+=m[j]*x[j];\n",
    "        ans+=m[13]\n",
    "        tc+=(1/N)*((y-ans)**2)\n",
    "    return tc"
   ]
  },
  {
   "cell_type": "code",
   "execution_count": 3,
   "metadata": {},
   "outputs": [],
   "source": [
    "def step_gradient(data,a,m):\n",
    "    N=len(data)\n",
    "    X=data[:,:13]      \n",
    "    Y=data[:,13]\n",
    "    costbym=[0,0,0,0,0,0,0,0,0,0,0,0,0,0]\n",
    "    \n",
    "    for i in range(N):\n",
    "        x=X[i,]      \n",
    "        y=Y[i,]\n",
    "        ans=0\n",
    "        for j in range(13):\n",
    "            ans+=m[j]*x[j]\n",
    "        for k in range(13):\n",
    "            costbym[k]+=(-2/N*(y-ans-m[13])*x[k])\n",
    "        costbym[13]+=(-2/N*(y-ans-m[13]))\n",
    "    m_slope=[0,0,0,0,0,0,0,0,0,0,0,0,0,0]\n",
    "    for i in range(14):\n",
    "        m_slope[i]=m[i]-a*costbym[i]\n",
    "    return m_slope"
   ]
  },
  {
   "cell_type": "code",
   "execution_count": 4,
   "metadata": {},
   "outputs": [],
   "source": [
    "def gd(data,a,num_iteration):\n",
    "    m=[]\n",
    "    for i in range(13):\n",
    "        m.append(0)\n",
    "    m.append(0)\n",
    "    for i in range(num_iteration):\n",
    "        m=step_gradient(data,a,m)\n",
    "        #print(\"cost:\",cost(data,m))\n",
    "    return m"
   ]
  },
  {
   "cell_type": "code",
   "execution_count": 5,
   "metadata": {},
   "outputs": [],
   "source": [
    "def run():\n",
    "    data=np.loadtxt(\"train.csv\",delimiter=\",\")\n",
    "    data2=np.loadtxt(\"test.csv\",delimiter=\",\")\n",
    "    a=0.1\n",
    "    num_iterations=10000\n",
    "    m=[]\n",
    "    X=data2[:,:13]\n",
    "    Y=data2[:,13:]\n",
    "   \n",
    "    m=gd(data,a,num_iterations)\n",
    "   # print(m)\n",
    "    pos=[]\n",
    "    #for i in range(len(data)):\n",
    "     #   pos.append(0)\n",
    "    for i in range(len(data2)):\n",
    "        ans=0\n",
    "        x=X[i,]\n",
    "        y=Y[i,]\n",
    "        for i in range(13):\n",
    "            ans+=m[i]*x[i]\n",
    "        ans+=m[13]\n",
    "        pos.append(ans)\n",
    "    np.savetxt(\"answer2.csv\", pos, delimiter=\",\")"
   ]
  },
  {
   "cell_type": "code",
   "execution_count": 6,
   "metadata": {},
   "outputs": [],
   "source": [
    "run()"
   ]
  },
  {
   "cell_type": "code",
   "execution_count": null,
   "metadata": {},
   "outputs": [],
   "source": []
  }
 ],
 "metadata": {
  "kernelspec": {
   "display_name": "Python 3",
   "language": "python",
   "name": "python3"
  },
  "language_info": {
   "codemirror_mode": {
    "name": "ipython",
    "version": 3
   },
   "file_extension": ".py",
   "mimetype": "text/x-python",
   "name": "python",
   "nbconvert_exporter": "python",
   "pygments_lexer": "ipython3",
   "version": "3.6.4"
  }
 },
 "nbformat": 4,
 "nbformat_minor": 2
}
