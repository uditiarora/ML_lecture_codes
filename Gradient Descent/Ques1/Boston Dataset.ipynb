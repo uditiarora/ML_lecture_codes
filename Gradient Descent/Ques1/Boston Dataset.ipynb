{
 "cells": [
  {
   "cell_type": "code",
   "execution_count": 1,
   "metadata": {},
   "outputs": [],
   "source": [
    "from sklearn import datasets\n",
    "boston=datasets.load_boston()\n"
   ]
  },
  {
   "cell_type": "code",
   "execution_count": 2,
   "metadata": {},
   "outputs": [],
   "source": [
    "import numpy as np\n",
    "data=np.genfromtxt(\"train.csv\",delimiter=\",\")\n",
    "x_test=np.genfromtxt(\"test.csv\",delimiter=\",\")\n",
    "x=data[:,0:13]\n",
    "y=data[:,13]\n"
   ]
  },
  {
   "cell_type": "code",
   "execution_count": 3,
   "metadata": {},
   "outputs": [
    {
     "name": "stdout",
     "output_type": "stream",
     "text": [
      "Index(['CRIM', 'ZN', 'INDUS', 'CHAS', 'NOX', 'RM', 'AGE', 'DIS', 'RAD', 'TAX',\n",
      "       'PTRATIO', 'B', 'LSTAT'],\n",
      "      dtype='object')\n"
     ]
    }
   ],
   "source": [
    "import pandas as pd\n",
    "df=pd.DataFrame(x)\n",
    "df.columns=boston.feature_names\n",
    "print(df.columns)\n",
    "df['CR_CR']=df['CRIM']**2\n",
    "df['ZN_ZN']=df['ZN']**2\n",
    "df['IND_IND']=df['INDUS']**2\n",
    "df['CHS_CHS']=df['CHAS']**2\n",
    "df['NOX_NOX']=df['NOX']**2\n",
    "df['RM_RM']=df['RM']**2\n",
    "df['AGE_AGE']=df['AGE']**2\n",
    "df['DIS_DIS']=df['DIS']**2\n",
    "df['RAD_RAD']=df['RAD']**2\n",
    "df['TAX_TAX']=df['TAX']**2\n",
    "df['PTR_PTR']=df['PTRATIO']**2\n",
    "df['B_B']=df['B']**2\n",
    "df['LST_LST']=df['LSTAT']**2\n",
    "#df['CR_AGE']=df['CRIM']*df['AGE']\n",
    "#df['PTR_AGE']=df['PTRATIO']*df['AGE']\n",
    "df['TAX_AGE']=df['TAX']*df['AGE']\n",
    "df['B_AGE']=df['B']*df['AGE']\n",
    "df['TAX_RM']=df['TAX']*df['RM']\n",
    "#df['TAX_ZN']=df['TAX']*df['ZN']\n",
    "#df['TAX_IND']=df['TAX']*df['INDUS']\n",
    "df['TAX_CHS']=df['TAX']*df['CHAS']\n",
    "#df['TAX_PTR']=df['TAX']*df['PTRATIO']\n",
    "#df['RAD_DIS']=df['RAD']*df['DIS']\n",
    "#---------------------------------------------\n",
    "df['IND_ZN']=df['INDUS']*df['ZN']\n",
    "#df['IND_RAD']=df['INDUS']*df['RAD']\n",
    "#df['ZN_RAD']=df['ZN']*df['RAD']\n",
    "#df['IND_DIS']=df['INDUS']*df['DIS']\n",
    "df['IND_CHS']=df['INDUS']*df['CHAS']\n",
    "df['CHS_AGE']=df['CHAS']*df['AGE']\n",
    "df['ZN_DIS']=df['ZN']*df['DIS']\n",
    "df['NOX_DIS']=df['NOX']*df['DIS']\n",
    "df['NOX_CHS']=df['NOX']*df['CHAS']\n",
    "#df['NOX_IND']=df['NOX']*df['INDUS']\n",
    "#df['LST_B']=df['LSTAT']*df['B']\n",
    "df['LST_TAX']=df['LSTAT']*df['TAX']\n",
    "#df['CR_B']=df['CRIM']*df['B']\n",
    "#df['CR_LSTAT']=df['CRIM']*df['LSTAT']\n",
    "df['PTR_IND']=df['PTRATIO']*df['INDUS']\n",
    "#df['TAX_RAD']=df['TAX']*df['RAD']\n",
    "df['RAD_LSTAT']=df['RAD']*df['LSTAT']\n",
    "#df['RAD_B']=df['RAD']*df['B']\n",
    "df['PTR_']=df['PTRATIO']*df['LSTAT']\n",
    "\n",
    "#print(df.columns)\n",
    "x_train_2=df.values\n"
   ]
  },
  {
   "cell_type": "code",
   "execution_count": 4,
   "metadata": {},
   "outputs": [
    {
     "name": "stdout",
     "output_type": "stream",
     "text": [
      "(127, 40)\n"
     ]
    }
   ],
   "source": [
    "import pandas as pd\n",
    "df=pd.DataFrame(x_test)\n",
    "df.columns=boston.feature_names\n",
    "df['CR_CR']=df['CRIM']**2\n",
    "df['ZN_ZN']=df['ZN']**2\n",
    "df['IND_IND']=df['INDUS']**2\n",
    "df['CHS_CHS']=df['CHAS']**2\n",
    "df['NOX_NOX']=df['NOX']**2\n",
    "df['RM_RM']=df['RM']**2\n",
    "df['AGE_AGE']=df['AGE']**2\n",
    "df['DIS_DIS']=df['DIS']**2\n",
    "df['RAD_RAD']=df['RAD']**2\n",
    "df['TAX_TAX']=df['TAX']**2\n",
    "df['PTR_PTR']=df['PTRATIO']**2\n",
    "df['B_B']=df['B']**2\n",
    "df['LST_LST']=df['LSTAT']**2\n",
    "#df['CR_AGE']=df['CRIM']*df['AGE']\n",
    "#df['PTR_AGE']=df['PTRATIO']*df['AGE']\n",
    "df['TAX_AGE']=df['TAX']*df['AGE']\n",
    "df['B_AGE']=df['B']*df['AGE']\n",
    "df['TAX_RM']=df['TAX']*df['RM']\n",
    "#df['TAX_ZN']=df['TAX']*df['ZN']\n",
    "#df['TAX_IND']=df['TAX']*df['INDUS']\n",
    "df['TAX_CHS']=df['TAX']*df['CHAS']\n",
    "#df['TAX_PTR']=df['TAX']*df['PTRATIO']\n",
    "#df['RAD_DIS']=df['RAD']*df['DIS']\n",
    "#---------------------------------------------\n",
    "df['IND_ZN']=df['INDUS']*df['ZN']\n",
    "#df['IND_RAD']=df['INDUS']*df['RAD']\n",
    "#df['ZN_RAD']=df['ZN']*df['RAD']\n",
    "#df['IND_DIS']=df['INDUS']*df['DIS']\n",
    "df['IND_CHS']=df['INDUS']*df['CHAS']\n",
    "df['CHS_AGE']=df['CHAS']*df['AGE']\n",
    "df['ZN_DIS']=df['ZN']*df['DIS']\n",
    "df['NOX_DIS']=df['NOX']*df['DIS']\n",
    "df['NOX_CHS']=df['NOX']*df['CHAS']\n",
    "#df['NOX_IND']=df['NOX']*df['INDUS']\n",
    "#df['LST_B']=df['LSTAT']*df['B']\n",
    "df['LST_TAX']=df['LSTAT']*df['TAX']\n",
    "#df['CR_B']=df['CRIM']*df['B']\n",
    "#df['CR_LSTAT']=df['CRIM']*df['LSTAT']\n",
    "df['PTR_IND']=df['PTRATIO']*df['INDUS']\n",
    "df['RAD_LSTAT']=df['RAD']*df['LSTAT']\n",
    "#df['RAD_B']=df['RAD']*df['B']\n",
    "#df['PTR_B']=df['PTRATIO']*df['B']\n",
    "df['PTR_']=df['PTRATIO']*df['LSTAT']\n",
    "\n",
    "#df['TAX_RAD']=df['TAX']*df['RAD']\n",
    "\n",
    "#print(df.columns)\n",
    "x_test_2=df.values\n",
    "print(x_test_2.shape)\n"
   ]
  },
  {
   "cell_type": "code",
   "execution_count": 5,
   "metadata": {},
   "outputs": [],
   "source": [
    "from sklearn.linear_model import LinearRegression\n",
    "alg1=LinearRegression()\n",
    "alg1.fit(x_train_2,y)\n",
    "y_pred=alg1.predict(x_test_2)\n",
    "yt=np.around(y_pred,5)\n",
    "np.savetxt('y_test.csv', yt, delimiter=\",\")"
   ]
  }
 ],
 "metadata": {
  "kernelspec": {
   "display_name": "Python 3",
   "language": "python",
   "name": "python3"
  },
  "language_info": {
   "codemirror_mode": {
    "name": "ipython",
    "version": 3
   },
   "file_extension": ".py",
   "mimetype": "text/x-python",
   "name": "python",
   "nbconvert_exporter": "python",
   "pygments_lexer": "ipython3",
   "version": "3.6.4"
  }
 },
 "nbformat": 4,
 "nbformat_minor": 2
}
