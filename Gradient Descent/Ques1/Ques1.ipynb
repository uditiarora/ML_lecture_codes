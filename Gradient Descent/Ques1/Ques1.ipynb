{
 "cells": [
  {
   "cell_type": "code",
   "execution_count": 32,
   "metadata": {},
   "outputs": [],
   "source": [
    "import numpy as np\n",
    "import pandas as pd\n",
    "from sklearn import model_selection"
   ]
  },
  {
   "cell_type": "code",
   "execution_count": 46,
   "metadata": {},
   "outputs": [],
   "source": [
    "def run(x_data,y_data):\n",
    "    learning_rate = 0.1\n",
    "    num_iterations = 1000\n",
    "    m,c = gradientDescent(x_data,y_data,learning_rate,num_iterations)\n",
    "    return m,c\n"
   ]
  },
  {
   "cell_type": "code",
   "execution_count": 34,
   "metadata": {},
   "outputs": [],
   "source": [
    "def gradientDescent(x_data,y_data,lr,it):\n",
    "    m = np.zeros(len(x_data[0]))\n",
    "    c = 0\n",
    "    for i in range(it):\n",
    "        m,c = step_gradient(x_data,y_data,lr,m,c)\n",
    "    return m,c"
   ]
  },
  {
   "cell_type": "code",
   "execution_count": 35,
   "metadata": {},
   "outputs": [],
   "source": [
    "def step_gradient(x_data,y_data,lr,m,c):\n",
    "    m_slope = np.zeros(len(m))\n",
    "    c_slope = 0\n",
    "    N = len(x_data)\n",
    "    M = len(m)\n",
    "    for i in range(N):\n",
    "        x = x_data[i]\n",
    "        y = y_data[i]\n",
    "        temp = (m*x).sum()\n",
    "        for j in range(M):           \n",
    "            #print(x[j])\n",
    "            m_slope[j] += (-2/N)*(y - temp - c)*x[j]\n",
    "        c_slope += (-2/N)*(y - temp -c)\n",
    "    lr_temp = [lr for i in range(0,M)]\n",
    "    arr = np.array(lr_temp)\n",
    "    new_m = m - (arr*m_slope)\n",
    "    new_c = c - lr*c_slope\n",
    "    return new_m,new_c"
   ]
  },
  {
   "cell_type": "code",
   "execution_count": 36,
   "metadata": {},
   "outputs": [],
   "source": [
    "def predict(x_data,m,c):\n",
    "    res = np.zeros(len(x_data))\n",
    "    N = len(x_data)\n",
    "    for i in range(N):\n",
    "        temp = (x_data[i] * m).sum()\n",
    "        res[i] = temp + c\n",
    "    return res\n",
    "    "
   ]
  },
  {
   "cell_type": "code",
   "execution_count": 37,
   "metadata": {},
   "outputs": [],
   "source": [
    "def score(x_data,y_data,m,c):\n",
    "    N = len(x_data)\n",
    "    u = 0\n",
    "    v = 0\n",
    "    ym = y_data.mean()\n",
    "    for i in range(N):\n",
    "        yp = (m*x_data[i]).sum() + c\n",
    "        u += (y_data[i] - yp)**2\n",
    "        v += (y_data[i] - ym)**2\n",
    "    return 1 - u/v"
   ]
  },
  {
   "cell_type": "code",
   "execution_count": 38,
   "metadata": {},
   "outputs": [],
   "source": [
    "def cost(x_data,y_data,m,c):\n",
    "    total = 0\n",
    "    N = len(x_data)\n",
    "    for i in range(N):\n",
    "        temp = (m*x_data[i]).sum()\n",
    "        total += (1/N) * ((y_train[i] - temp-c)**2)\n",
    "    return total"
   ]
  },
  {
   "cell_type": "code",
   "execution_count": null,
   "metadata": {},
   "outputs": [],
   "source": []
  },
  {
   "cell_type": "code",
   "execution_count": 47,
   "metadata": {},
   "outputs": [],
   "source": [
    "data = np.loadtxt(\"train.csv\",delimiter=\",\")\n",
    "x = data[:,0:len(data[0])-1]\n",
    "y = data[:,len(data[0])-1]\n",
    "x_train,x_test,y_train,y_test = model_selection.train_test_split(x,y)\n",
    "\n",
    "#data_test = np.loadtxt(\"test.csv\",delimiter=\",\")\n",
    "#x_test = data_test[:,:]"
   ]
  },
  {
   "cell_type": "code",
   "execution_count": 48,
   "metadata": {},
   "outputs": [],
   "source": [
    "sd = np.std(x_train,axis=0)\n",
    "sdt = np.std(x_test,axis=0)\n",
    "mtr = np.mean(x_train,axis=0)\n",
    "mts = np.mean(x_test,axis = 0)\n",
    "for i in range(len(x_train)):\n",
    "    for j in range(len(x_train[0])):\n",
    "        x_train[i,j] = (x_train[i,j] - mtr[j])/sd[j]\n",
    "for i in range(len(x_test)):\n",
    "    for j in range(len(x_test[0])):\n",
    "        x_test[i,j] = (x_test[i,j] - mts[j])/sdt[j]\n"
   ]
  },
  {
   "cell_type": "code",
   "execution_count": 49,
   "metadata": {},
   "outputs": [],
   "source": [
    "m,c = run(x_train,y_train)\n",
    "#y_test = predict(x_test,m,c)\n",
    "#y_test = np.insert(y_test,0,y_test.mean(),axis=0)\n",
    "#np.savetxt(\"untitled.csv\",y_test,delimiter=\",\")"
   ]
  },
  {
   "cell_type": "code",
   "execution_count": null,
   "metadata": {},
   "outputs": [],
   "source": []
  },
  {
   "cell_type": "code",
   "execution_count": 50,
   "metadata": {},
   "outputs": [
    {
     "name": "stderr",
     "output_type": "stream",
     "text": [
      "C:\\Users\\uditi\\Anaconda3\\lib\\site-packages\\ipykernel_launcher.py:6: RuntimeWarning: overflow encountered in double_scalars\n",
      "  \n"
     ]
    },
    {
     "data": {
      "text/plain": [
       "inf"
      ]
     },
     "execution_count": 50,
     "metadata": {},
     "output_type": "execute_result"
    }
   ],
   "source": [
    "cost(x_train,y_train,m,c)"
   ]
  },
  {
   "cell_type": "code",
   "execution_count": 51,
   "metadata": {},
   "outputs": [
    {
     "name": "stderr",
     "output_type": "stream",
     "text": [
      "C:\\Users\\uditi\\Anaconda3\\lib\\site-packages\\ipykernel_launcher.py:6: RuntimeWarning: overflow encountered in double_scalars\n",
      "  \n"
     ]
    },
    {
     "data": {
      "text/plain": [
       "inf"
      ]
     },
     "execution_count": 51,
     "metadata": {},
     "output_type": "execute_result"
    }
   ],
   "source": [
    "cost(x_test,y_test,m,c)"
   ]
  },
  {
   "cell_type": "code",
   "execution_count": 52,
   "metadata": {},
   "outputs": [
    {
     "name": "stderr",
     "output_type": "stream",
     "text": [
      "C:\\Users\\uditi\\Anaconda3\\lib\\site-packages\\ipykernel_launcher.py:8: RuntimeWarning: overflow encountered in double_scalars\n",
      "  \n"
     ]
    },
    {
     "data": {
      "text/plain": [
       "-inf"
      ]
     },
     "execution_count": 52,
     "metadata": {},
     "output_type": "execute_result"
    }
   ],
   "source": [
    "score(x_train,y_train,m,c)"
   ]
  },
  {
   "cell_type": "code",
   "execution_count": 54,
   "metadata": {},
   "outputs": [
    {
     "name": "stderr",
     "output_type": "stream",
     "text": [
      "C:\\Users\\uditi\\Anaconda3\\lib\\site-packages\\ipykernel_launcher.py:8: RuntimeWarning: overflow encountered in double_scalars\n",
      "  \n"
     ]
    },
    {
     "data": {
      "text/plain": [
       "-inf"
      ]
     },
     "execution_count": 54,
     "metadata": {},
     "output_type": "execute_result"
    }
   ],
   "source": [
    "score(x_test,y_test,m,c)"
   ]
  }
 ],
 "metadata": {
  "kernelspec": {
   "display_name": "Python 3",
   "language": "python",
   "name": "python3"
  },
  "language_info": {
   "codemirror_mode": {
    "name": "ipython",
    "version": 3
   },
   "file_extension": ".py",
   "mimetype": "text/x-python",
   "name": "python",
   "nbconvert_exporter": "python",
   "pygments_lexer": "ipython3",
   "version": "3.6.4"
  }
 },
 "nbformat": 4,
 "nbformat_minor": 2
}
