{
 "cells": [
  {
   "cell_type": "code",
   "execution_count": 1,
   "metadata": {},
   "outputs": [],
   "source": [
    "import numpy as np\n",
    "from sklearn import datasets"
   ]
  },
  {
   "cell_type": "code",
   "execution_count": null,
   "metadata": {},
   "outputs": [],
   "source": []
  },
  {
   "cell_type": "code",
   "execution_count": 2,
   "metadata": {},
   "outputs": [],
   "source": [
    "boston_train = np.loadtxt (\"0000000000002417_training_boston_x_y_train.csv\", delimiter =\",\")"
   ]
  },
  {
   "cell_type": "code",
   "execution_count": 3,
   "metadata": {},
   "outputs": [],
   "source": [
    "boston_train = np.delete(boston_train, 8, 1)"
   ]
  },
  {
   "cell_type": "code",
   "execution_count": 4,
   "metadata": {},
   "outputs": [
    {
     "data": {
      "text/plain": [
       "array([[-0.40784991, -0.48772236, -1.2660231 , ...,  0.41057102,\n",
       "        -1.09799011, 37.9       ],\n",
       "       [-0.40737368, -0.48772236,  0.24705682, ...,  0.29116915,\n",
       "        -0.52047412, 21.4       ],\n",
       "       [ 0.1251786 , -0.48772236,  1.01599907, ..., -3.79579542,\n",
       "         0.89107588, 12.7       ],\n",
       "       ...,\n",
       "       [-0.40831101, -0.48772236,  0.24705682, ...,  0.33206621,\n",
       "        -0.33404299, 20.8       ],\n",
       "       [-0.41061997, -0.48772236, -1.15221381, ...,  0.203235  ,\n",
       "        -0.74475218, 22.6       ],\n",
       "       [ 0.34290895, -0.48772236,  1.01599907, ...,  0.38787479,\n",
       "        -1.35871335, 50.        ]])"
      ]
     },
     "execution_count": 4,
     "metadata": {},
     "output_type": "execute_result"
    }
   ],
   "source": [
    "boston_train"
   ]
  },
  {
   "cell_type": "code",
   "execution_count": 5,
   "metadata": {},
   "outputs": [],
   "source": [
    "boston_train = np.insert(boston_train,12,boston_train[:,5]**2,axis=1)\n",
    "boston_train = np.insert(boston_train,12,boston_train[:,3]**2,axis=1)\n",
    "#boston_train = np.insert(boston_train,12,boston_train[:,7]**2,axis=1)\n",
    "boston_train = np.insert(boston_train,12,boston_train[:,11]**2,axis=1)\n",
    "boston_train = np.insert(boston_train,12,boston_train[:,10]**2,axis=1)\n",
    "boston_train = np.insert(boston_train,12,boston_train[:,1]**2,axis=1)\n",
    "boston_train = np.insert(boston_train,12,(boston_train[:,1]*boston_train[:,5]),axis=1)\n",
    "boston_train = np.insert(boston_train,12,(boston_train[:,10]*boston_train[:,5]),axis=1)\n",
    "boston_train = np.insert(boston_train,12,(boston_train[:,10]*boston_train[:,5])**2,axis=1)\n",
    "boston_train = np.insert(boston_train,12,(boston_train[:,1]*boston_train[:,5])**2,axis=1)\n",
    "boston_train = np.insert(boston_train,12,(boston_train[:,11]*boston_train[:,10]),axis=1)\n",
    "boston_train = np.insert(boston_train,12,(boston_train[:,8]*boston_train[:,1])**2,axis=1)\n",
    "boston_train = np.insert(boston_train,12,(boston_train[:,9]*boston_train[:,1])**2,axis=1)\n",
    "boston_train = np.insert(boston_train,12,(boston_train[:,9]*boston_train[:,1]),axis=1)"
   ]
  },
  {
   "cell_type": "code",
   "execution_count": 6,
   "metadata": {},
   "outputs": [],
   "source": [
    "#boston_train = np.insert(boston_train,12,boston_train[:,4]**2,axis=1)"
   ]
  },
  {
   "cell_type": "code",
   "execution_count": 7,
   "metadata": {},
   "outputs": [],
   "source": [
    "#boston_train = np.insert(boston_train,12,boston_train[:,4]*boston_train[:,5],axis=1)"
   ]
  },
  {
   "cell_type": "code",
   "execution_count": 8,
   "metadata": {},
   "outputs": [],
   "source": [
    "boston_train = np.insert(boston_train,12,boston_train[:,6]*boston_train[:,5],axis=1)"
   ]
  },
  {
   "cell_type": "code",
   "execution_count": 9,
   "metadata": {},
   "outputs": [],
   "source": [
    "boston_train = np.insert(boston_train,12,boston_train[:,8]**2,axis=1)\n",
    "boston_train = np.insert(boston_train,12,boston_train[:,8]*boston_train[:,5],axis=1)\n",
    "boston_train = np.insert(boston_train,12,boston_train[:,6]*boston_train[:,8],axis=1)"
   ]
  },
  {
   "cell_type": "code",
   "execution_count": 10,
   "metadata": {},
   "outputs": [],
   "source": [
    "boston_train = np.insert(boston_train,12,boston_train[:,9]**2,axis=1)"
   ]
  },
  {
   "cell_type": "code",
   "execution_count": 11,
   "metadata": {},
   "outputs": [],
   "source": [
    "boston_train = np.insert(boston_train,12,boston_train[:,9]*boston_train[:,5],axis=1)\n",
    "\n",
    "boston_train = np.insert(boston_train,12,(boston_train[:,9]*boston_train[:,5])**2,axis=1)"
   ]
  },
  {
   "cell_type": "code",
   "execution_count": 12,
   "metadata": {},
   "outputs": [],
   "source": [
    "boston_train = np.insert(boston_train,12,boston_train[:,6]*boston_train[:,9],axis=1)"
   ]
  },
  {
   "cell_type": "code",
   "execution_count": 13,
   "metadata": {},
   "outputs": [],
   "source": [
    "boston_train = np.insert(boston_train,12,boston_train[:,0]**2,axis=1)"
   ]
  },
  {
   "cell_type": "code",
   "execution_count": 14,
   "metadata": {},
   "outputs": [],
   "source": [
    "def stepgrad(data,learning_rate,m):\n",
    "    m_slope = np.zeros(data.shape[1]-1)\n",
    "    M = len(data)\n",
    "    y = data[:,data.shape[1]-1]\n",
    "    x = data[:,:data.shape[1]-1]\n",
    "    m_temp= np.zeros(len(data))\n",
    "    m_temp = x.dot(m)\n",
    "#    for i in range(len(data)):\n",
    "#        \n",
    "#        for j in range(data.shape[1]-1):\n",
    "#            x = data[i,j]\n",
    "#            m_temp[i] += m[j]*x\n",
    "#            m_slope[j] += (-2/M)*((y[i] - m_temp[i])*data[i][j])\n",
    "    for j in range(data.shape[1]-1):    \n",
    "        for i in range(len(data)):\n",
    "            m_slope[j] += (-2/M)*((y[i] - m_temp[i])*data[i][j])\n",
    "    new_m = m -learning_rate *m_slope\n",
    "    return new_m "
   ]
  },
  {
   "cell_type": "code",
   "execution_count": 15,
   "metadata": {},
   "outputs": [],
   "source": [
    "def gd(data,learning_rate,num_iterations):\n",
    "    m = np.zeros(data.shape[1]-1)\n",
    "    for i in range(num_iterations):\n",
    "        m= stepgrad(data , learning_rate,m)\n",
    "        #print(i, \" Cost: \", cost(data, m, c))\n",
    "    return m\n",
    "   "
   ]
  },
  {
   "cell_type": "code",
   "execution_count": 16,
   "metadata": {},
   "outputs": [],
   "source": [
    "#def cost(points, m, c):\n",
    "#    total_cost = 0\n",
    "#    M = len(points)\n",
    "#    for i in range(M):\n",
    "#        x = points[i, 0]\n",
    "#        y = points[i, 1]\n",
    "#        total_cost += (1/M)*((y - m*x - c)**2)\n",
    "#    return total_cost"
   ]
  },
  {
   "cell_type": "code",
   "execution_count": 17,
   "metadata": {},
   "outputs": [],
   "source": [
    "def run(data):\n",
    "    data_new=np.insert(data, data.shape[1]-1, 1, axis=1)\n",
    "    learning_rate= 0.01\n",
    "    num_iterations = 10000\n",
    "    m = gd(data_new,learning_rate,num_iterations)\n",
    "    return m"
   ]
  },
  {
   "cell_type": "code",
   "execution_count": null,
   "metadata": {},
   "outputs": [],
   "source": [
    "def predict(test_data, m):\n",
    "    test_data = np.insert(test_data, test_data.shape[1],1,axis = 1)\n",
    "    y_pred = test_data.dot(m)\n",
    "    return y_pred"
   ]
  },
  {
   "cell_type": "code",
   "execution_count": null,
   "metadata": {},
   "outputs": [],
   "source": [
    "m = run(boston_train)\n"
   ]
  },
  {
   "cell_type": "code",
   "execution_count": null,
   "metadata": {},
   "outputs": [],
   "source": [
    "m.shape"
   ]
  },
  {
   "cell_type": "code",
   "execution_count": null,
   "metadata": {},
   "outputs": [],
   "source": [
    "x_test = np.loadtxt(\"0000000000002417_test_boston_x_test.csv\",delimiter=\",\")"
   ]
  },
  {
   "cell_type": "code",
   "execution_count": null,
   "metadata": {},
   "outputs": [],
   "source": [
    "x_test = np.delete(x_test, 8, 1)"
   ]
  },
  {
   "cell_type": "code",
   "execution_count": null,
   "metadata": {},
   "outputs": [],
   "source": []
  },
  {
   "cell_type": "code",
   "execution_count": null,
   "metadata": {},
   "outputs": [],
   "source": [
    "x_test = np.insert(x_test,12,x_test[:,5]**2,axis=1)\n",
    "x_test = np.insert(x_test,12,x_test[:,3]**2,axis=1)\n",
    "#x_test = np.insert(x_test,12,x_test[:,7]**2,axis=1)\n",
    "x_test = np.insert(x_test,12,x_test[:,11]**2,axis=1)\n",
    "x_test = np.insert(x_test,12,x_test[:,10]**2,axis=1)\n",
    "\n",
    "x_test = np.insert(x_test,12,x_test[:,1]**2,axis=1)\n",
    "x_test = np.insert(x_test,12,(x_test[:,1]*x_test[:,5]),axis=1)\n",
    "x_test = np.insert(x_test,12,(x_test[:,10]*x_test[:,5]),axis=1)\n",
    "x_test = np.insert(x_test,12,(x_test[:,10]*x_test[:,5])**2,axis=1)\n",
    "x_test = np.insert(x_test,12,(x_test[:,1]*x_test[:,5])**2,axis=1)\n",
    "x_test = np.insert(x_test,12,(x_test[:,11]*x_test[:,10]),axis=1)\n",
    "x_test = np.insert(x_test,12,(x_test[:,8]*x_test[:,1])**2,axis=1)\n",
    "x_test = np.insert(x_test,12,(x_test[:,9]*x_test[:,1])**2,axis=1)\n",
    "x_test = np.insert(x_test,12,(x_test[:,9]*x_test[:,1]),axis=1)"
   ]
  },
  {
   "cell_type": "code",
   "execution_count": null,
   "metadata": {},
   "outputs": [],
   "source": [
    "#x_test = np.insert(x_test,12,x_test[:,4]**2,axis=1)"
   ]
  },
  {
   "cell_type": "code",
   "execution_count": null,
   "metadata": {},
   "outputs": [],
   "source": [
    "#x_test = np.insert(x_test,12,x_test[:,4]*x_test[:,5],axis=1)"
   ]
  },
  {
   "cell_type": "code",
   "execution_count": null,
   "metadata": {},
   "outputs": [],
   "source": [
    "x_test = np.insert(x_test,12,x_test[:,6]*x_test[:,5],axis=1)"
   ]
  },
  {
   "cell_type": "code",
   "execution_count": null,
   "metadata": {},
   "outputs": [],
   "source": [
    "x_test = np.insert(x_test,12,x_test[:,8]**2,axis=1)\n",
    "x_test = np.insert(x_test,12,x_test[:,8]*x_test[:,5],axis=1)\n",
    "x_test = np.insert(x_test,12,x_test[:,6]*x_test[:,8],axis=1)"
   ]
  },
  {
   "cell_type": "code",
   "execution_count": null,
   "metadata": {},
   "outputs": [],
   "source": [
    "x_test = np.insert(x_test,12,x_test[:,9]**2,axis=1)"
   ]
  },
  {
   "cell_type": "code",
   "execution_count": null,
   "metadata": {},
   "outputs": [],
   "source": [
    "x_test = np.insert(x_test,12,x_test[:,9]*x_test[:,5],axis=1)\n",
    "x_test = np.insert(x_test,12,(x_test[:,9]*x_test[:,5])**2,axis=1)"
   ]
  },
  {
   "cell_type": "code",
   "execution_count": null,
   "metadata": {},
   "outputs": [],
   "source": [
    "x_test = np.insert(x_test,12,x_test[:,6]*x_test[:,9],axis=1)"
   ]
  },
  {
   "cell_type": "code",
   "execution_count": null,
   "metadata": {},
   "outputs": [],
   "source": [
    "x_test = np.insert(x_test,12,x_test[:,0]**2,axis=1)"
   ]
  },
  {
   "cell_type": "code",
   "execution_count": null,
   "metadata": {},
   "outputs": [],
   "source": [
    "x_test.shape"
   ]
  },
  {
   "cell_type": "code",
   "execution_count": null,
   "metadata": {},
   "outputs": [],
   "source": [
    "y_pred = predict(x_test,m)"
   ]
  },
  {
   "cell_type": "code",
   "execution_count": null,
   "metadata": {
    "scrolled": false
   },
   "outputs": [],
   "source": [
    "y_pred"
   ]
  },
  {
   "cell_type": "code",
   "execution_count": null,
   "metadata": {},
   "outputs": [],
   "source": [
    "np.savetxt('boston_y_pred.csv',y_pred,delimiter =\",\",fmt = \"%.5f\")"
   ]
  },
  {
   "cell_type": "code",
   "execution_count": null,
   "metadata": {},
   "outputs": [],
   "source": [
    "import matplotlib.pyplot as plt\n"
   ]
  }
 ],
 "metadata": {
  "kernelspec": {
   "display_name": "Python 3",
   "language": "python",
   "name": "python3"
  },
  "language_info": {
   "codemirror_mode": {
    "name": "ipython",
    "version": 3
   },
   "file_extension": ".py",
   "mimetype": "text/x-python",
   "name": "python",
   "nbconvert_exporter": "python",
   "pygments_lexer": "ipython3",
   "version": "3.6.4"
  }
 },
 "nbformat": 4,
 "nbformat_minor": 2
}
