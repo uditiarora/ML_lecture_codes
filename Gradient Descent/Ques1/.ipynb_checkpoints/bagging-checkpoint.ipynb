{
 "cells": [
  {
   "cell_type": "code",
   "execution_count": 33,
   "metadata": {},
   "outputs": [],
   "source": [
    "import numpy as np\n",
    "import pandas as pd\n",
    "from sklearn import model_selection\n",
    "from sklearn.ensemble import BaggingRegressor"
   ]
  },
  {
   "cell_type": "code",
   "execution_count": 31,
   "metadata": {},
   "outputs": [],
   "source": [
    "data = pd.read_csv(\"train.csv\",delimiter = \",\")\n",
    "l = data.columns\n",
    "n = len(l)\n",
    "ar = data[\" Y\"]\n",
    "data.drop(\" Y\",axis=1,inplace=True)\n",
    "for i in range(n-1):\n",
    "    for j in range(i,n-1):\n",
    "        data[l[i]+\" \"+l[j]] = data[l[i]]*data[l[j]]\n",
    "data[\" Y\"] = ar\n",
    "data.to_csv(\"out.csv\",header=False)\n",
    "\n",
    "\n",
    "\n",
    "\n",
    "\n",
    "data = pd.read_csv(\"test.csv\",delimiter = \",\")\n",
    "l = data.columns\n",
    "n = len(l)\n",
    "for i in range(n):\n",
    "    for j in range(i,n):\n",
    "        data[l[i]+\" \"+l[j]] = data[l[i]]*data[l[j]]\n",
    "data.to_csv(\"out2.csv\",header=False)\n",
    "\n",
    "data = np.loadtxt(\"out.csv\",delimiter=\",\")\n",
    "x_train = data[:,:len(data[0])-1]\n",
    "y_train = data[:,len(data[0])-1]\n",
    "data = np.loadtxt(\"out2.csv\",delimiter=\",\")\n",
    "x_test = data[:,:]"
   ]
  },
  {
   "cell_type": "code",
   "execution_count": 31,
   "metadata": {},
   "outputs": [],
   "source": []
  },
  {
   "cell_type": "code",
   "execution_count": 34,
   "metadata": {
    "scrolled": false
   },
   "outputs": [],
   "source": [
    "clf = BaggingRegressor()\n",
    "clf.fit(x_train,y_train)\n",
    "y_test = clf.predict(x_test)\n",
    "np.savetxt(\"untitled.csv\",y_test,delimiter=\",\")"
   ]
  }
 ],
 "metadata": {
  "kernelspec": {
   "display_name": "Python 3",
   "language": "python",
   "name": "python3"
  },
  "language_info": {
   "codemirror_mode": {
    "name": "ipython",
    "version": 3
   },
   "file_extension": ".py",
   "mimetype": "text/x-python",
   "name": "python",
   "nbconvert_exporter": "python",
   "pygments_lexer": "ipython3",
   "version": "3.6.4"
  }
 },
 "nbformat": 4,
 "nbformat_minor": 2
}
