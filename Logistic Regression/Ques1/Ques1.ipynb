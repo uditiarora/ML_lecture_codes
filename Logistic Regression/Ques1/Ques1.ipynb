{
 "cells": [
  {
   "cell_type": "code",
   "execution_count": 2,
   "metadata": {},
   "outputs": [],
   "source": [
    "from sklearn import model_selection\n",
    "from sklearn.linear_model import LogisticRegression\n",
    "import numpy as np\n",
    "import pandas as pd"
   ]
  },
  {
   "cell_type": "code",
   "execution_count": 3,
   "metadata": {},
   "outputs": [],
   "source": [
    "def func(s):\n",
    "    if(s==\"male\"):\n",
    "        return 0\n",
    "    else:\n",
    "        return 1"
   ]
  },
  {
   "cell_type": "code",
   "execution_count": 4,
   "metadata": {},
   "outputs": [],
   "source": [
    "data = pd.read_csv(\"train.csv\",delimiter=\",\")\n",
    "df = data.copy()\n",
    "df.drop('Name',axis = 1,inplace=True)\n",
    "df.drop('Cabin',axis = 1,inplace=True)\n",
    "df.Age.fillna(df.Age.mean(),inplace=True)\n",
    "df.Embarked.fillna('S',inplace=True)\n",
    "df.drop('Embarked',axis=1,inplace=True)\n",
    "\n",
    "df.drop('Ticket',axis=1,inplace=True)\n",
    "\n",
    "df[\"Gender\"] = df.Sex.apply(func)\n",
    "df.drop('Sex',axis=1,inplace=True)\n",
    "df[\"Res\"] = df[\"Survived\"]\n",
    "\n",
    "df.drop(\"Survived\",axis=1,inplace=True)\n",
    "#print(df.describe())\n",
    "n = len(df.columns)-2\n",
    "for i in range(n):\n",
    "    temp = df.columns[i]\n",
    "    for j in range(i,n):\n",
    "        temp2 = df.columns[j]\n",
    "        df[temp+\"_\"+temp2] = df[temp]*df[temp2]\n",
    "df[\"Survived\"] = df[\"Res\"]\n",
    "df.drop(\"Res\",axis=1,inplace=True)\n",
    "df.to_csv(\"out.csv\",header=False,index=False)\n",
    "data = np.loadtxt(\"out.csv\",delimiter=\",\")\n",
    "x_train = data[:,0:len(data[0])-1]\n",
    "y_train = data[:,len(data[0])-1]\n"
   ]
  },
  {
   "cell_type": "code",
   "execution_count": 31,
   "metadata": {},
   "outputs": [],
   "source": [
    "#x_train,x_test,y_train,y_test = model_selection.train_test_split(x,y)\n",
    "alg1 = LogisticRegression()\n",
    "alg1.fit(x_train,y_train)\n",
    "data = pd.read_csv(\"test.csv\",delimiter=\",\")\n",
    "df = data.copy()\n",
    "df.drop('Name',axis = 1,inplace=True)\n",
    "df.drop('Cabin',axis = 1,inplace=True)\n",
    "df.Age.fillna(df.Age.mean(),inplace=True)\n",
    "df.Embarked.fillna('S',inplace=True)\n",
    "df.drop('Embarked',axis=1,inplace=True)\n",
    "\n",
    "df.drop('Ticket',axis=1,inplace=True)\n",
    "\n",
    "df[\"Gender\"] = df.Sex.apply(func)\n",
    "df.drop('Sex',axis=1,inplace=True)\n",
    "\n",
    "#print(df.describe())\n",
    "n = len(df.columns)-1\n",
    "for i in range(n):\n",
    "    temp = df.columns[i]\n",
    "    for j in range(i,n):\n",
    "        temp2 = df.columns[j]\n",
    "        df[temp+\"_\"+temp2] = df[temp]*df[temp2]\n",
    "\n",
    "df.to_csv(\"out2.csv\",header=False,index=False)\n",
    "data = np.loadtxt(\"out2.csv\",delimiter=\",\")\n",
    "x_test = data[:,:]\n",
    "y_test = alg1.predict(x_test)\n",
    "np.savetxt(\"untitled.csv\",y_test,fmt='%.1f',delimiter=\",\")"
   ]
  },
  {
   "cell_type": "code",
   "execution_count": 36,
   "metadata": {},
   "outputs": [],
   "source": []
  },
  {
   "cell_type": "code",
   "execution_count": null,
   "metadata": {},
   "outputs": [],
   "source": []
  }
 ],
 "metadata": {
  "kernelspec": {
   "display_name": "Python 3",
   "language": "python",
   "name": "python3"
  },
  "language_info": {
   "codemirror_mode": {
    "name": "ipython",
    "version": 3
   },
   "file_extension": ".py",
   "mimetype": "text/x-python",
   "name": "python",
   "nbconvert_exporter": "python",
   "pygments_lexer": "ipython3",
   "version": "3.6.4"
  }
 },
 "nbformat": 4,
 "nbformat_minor": 2
}
