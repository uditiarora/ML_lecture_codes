{
 "cells": [
  {
   "cell_type": "code",
   "execution_count": 1,
   "metadata": {},
   "outputs": [],
   "source": [
    "from sklearn import model_selection\n",
    "from sklearn.linear_model import LogisticRegression\n",
    "import numpy as np\n",
    "import pandas as pd"
   ]
  },
  {
   "cell_type": "code",
   "execution_count": 2,
   "metadata": {},
   "outputs": [],
   "source": [
    "def func(s):\n",
    "    if(s==\"male\"):\n",
    "        return 0\n",
    "    else:\n",
    "        return 1\n",
    "def func2(s):\n",
    "    if(s==\"S\"):\n",
    "        return 0\n",
    "    if(s==\"C\"):\n",
    "        return 1\n",
    "    if(s==\"Q\"):\n",
    "        return 2"
   ]
  },
  {
   "cell_type": "code",
   "execution_count": 3,
   "metadata": {},
   "outputs": [],
   "source": [
    "data = pd.read_csv(\"train.csv\",delimiter=\",\")\n",
    "df = data.copy()\n",
    "df.drop(\"Name\",inplace=True,axis = 1)\n",
    "df.drop(\"Cabin\",inplace=True,axis=1)\n",
    "df.Age.fillna(df.Age.mean(),inplace=True)\n",
    "df.drop(\"Ticket\",inplace=True,axis=1)\n",
    "df[\"Gender\"] = df.Sex.apply(func)\n",
    "df.drop(\"Sex\",axis=1,inplace=True)\n",
    "df.Embarked.fillna(\"Q\",inplace=True)\n",
    "df[\"embark\"] = df.Embarked.apply(func2)\n",
    "df.drop(\"Embarked\",inplace=True,axis=1)\n",
    "df[\"Res\"] = df[\"Survived\"]\n",
    "df.drop(\"Survived\",axis=1,inplace=True)\n",
    "df.to_csv(\"out.csv\",header=False,index=False)\n",
    "data = np.loadtxt(\"out.csv\",delimiter=\",\")\n",
    "x_train = data[:,0:len(data[0])-1]\n",
    "y_train = data[:,len(data[0])-1]\n",
    "\n"
   ]
  },
  {
   "cell_type": "code",
   "execution_count": 4,
   "metadata": {},
   "outputs": [],
   "source": [
    "alg1 = LogisticRegression()\n",
    "alg1.fit(x_train,y_train)\n",
    "data = pd.read_csv(\"test.csv\",delimiter=\",\")\n",
    "df = data.copy()\n",
    "df.drop(\"Name\",inplace=True,axis = 1)\n",
    "df.drop(\"Cabin\",inplace=True,axis=1)\n",
    "df.Age.fillna(df.Age.mean(),inplace=True)\n",
    "df.drop(\"Ticket\",inplace=True,axis=1)\n",
    "df[\"Gender\"] = df.Sex.apply(func)\n",
    "df.drop(\"Sex\",axis=1,inplace=True)\n",
    "df.Embarked.fillna(\"Q\",inplace=True)\n",
    "df[\"embark\"] = df.Embarked.apply(func2)\n",
    "df.drop(\"Embarked\",inplace=True,axis=1)\n",
    "df.to_csv(\"out2.csv\",header=False,index=False)\n",
    "data = np.loadtxt(\"out2.csv\",delimiter=\",\")\n",
    "x_test = data[:,0:len(data[0])]\n",
    "y_test = alg1.predict(x_test)\n",
    "np.savetxt(\"untitled.csv\",y_test,fmt='%.1f',delimiter=\",\")"
   ]
  }
 ],
 "metadata": {
  "kernelspec": {
   "display_name": "Python 3",
   "language": "python",
   "name": "python3"
  },
  "language_info": {
   "codemirror_mode": {
    "name": "ipython",
    "version": 3
   },
   "file_extension": ".py",
   "mimetype": "text/x-python",
   "name": "python",
   "nbconvert_exporter": "python",
   "pygments_lexer": "ipython3",
   "version": "3.6.4"
  }
 },
 "nbformat": 4,
 "nbformat_minor": 2
}
