{
 "cells": [
  {
   "cell_type": "code",
   "execution_count": 1,
   "metadata": {},
   "outputs": [],
   "source": [
    "%matplotlib inline\n",
    "import numpy as np\n",
    "import pandas as pd\n",
    "import matplotlib\n",
    "import matplotlib.pyplot as plt\n",
    "import scipy.stats as stats\n",
    "matplotlib.style.use('ggplot')"
   ]
  },
  {
   "cell_type": "code",
   "execution_count": 4,
   "metadata": {},
   "outputs": [
    {
     "data": {
      "text/plain": [
       "'plt.plot(plot_range,   # X-axis range\\n         y_values,          # Predicted values\\n         color=\"red\")'"
      ]
     },
     "execution_count": 4,
     "metadata": {},
     "output_type": "execute_result"
    },
    {
     "data": {
      "text/plain": [
       "<matplotlib.figure.Figure at 0x1ea43018ba8>"
      ]
     },
     "metadata": {},
     "output_type": "display_data"
    }
   ],
   "source": [
    "plt.figure(figsize=(9,9))\n",
    "\n",
    "def sigmoid(t):                          # Define the sigmoid function\n",
    "    return (1/(1 + np.e**(-t)))    \n",
    "\n",
    "plot_range = np.arange(-6, 6, 0.1)       \n",
    "\n",
    "y_values = sigmoid(plot_range)\n",
    "\n",
    "# Plot curve\n",
    "\"\"\"plt.plot(plot_range,   # X-axis range\n",
    "         y_values,          # Predicted values\n",
    "         color=\"red\")\"\"\""
   ]
  },
  {
   "cell_type": "code",
   "execution_count": 5,
   "metadata": {},
   "outputs": [],
   "source": [
    "titanic_train = pd.read_csv(\"train.csv\")    # Read the data\n",
    "\n",
    "char_cabin = titanic_train[\"Cabin\"].astype(str)     # Convert cabin to str\n",
    "\n",
    "new_Cabin = np.array([cabin[0] for cabin in char_cabin]) # Take first letter\n",
    "\n",
    "titanic_train[\"Cabin\"] = pd.Categorical(new_Cabin)  # Save the new cabin var\n",
    "\n",
    "# Impute median Age for NA Age values\n",
    "new_age_var = np.where(titanic_train[\"Age\"].isnull(), # Logical check\n",
    "                       28,                       # Value if check is true\n",
    "                       titanic_train[\"Age\"])     # Value if check is false\n",
    "\n",
    "titanic_train[\"Age\"] = new_age_var "
   ]
  },
  {
   "cell_type": "code",
   "execution_count": 6,
   "metadata": {},
   "outputs": [],
   "source": [
    "from sklearn import linear_model\n",
    "from sklearn import preprocessing"
   ]
  },
  {
   "cell_type": "code",
   "execution_count": 10,
   "metadata": {},
   "outputs": [],
   "source": [
    "label_encoder = preprocessing.LabelEncoder()\n",
    "\n",
    "# Convert Sex variable to numeric\n",
    "encoded_sex = label_encoder.fit_transform(titanic_train[\"Sex\"])\n",
    "\n",
    "# Initialize logistic regression model\n",
    "log_model = linear_model.LogisticRegression()\n",
    "\n",
    "# Train the model\n",
    "log_model.fit(X = pd.DataFrame(encoded_sex), \n",
    "              y = titanic_train[\"Survived\"])\n",
    "\n",
    "# Check trained model intercept\n",
    "#print(log_model.intercept_)\n",
    "\n",
    "# Check trained model coefficients\n",
    "#print(log_model.coef_)\n",
    "preds = log_model.predict_proba(X= pd.DataFrame(encoded_sex))\n",
    "preds = pd.DataFrame(preds)\n",
    "preds.columns = [\"Death_prob\", \"Survival_prob\"]\n",
    "\n"
   ]
  },
  {
   "cell_type": "code",
   "execution_count": 12,
   "metadata": {},
   "outputs": [],
   "source": [
    "encoded_class = label_encoder.fit_transform(titanic_train[\"Pclass\"])\n",
    "encoded_cabin = label_encoder.fit_transform(titanic_train[\"Cabin\"])\n",
    "\n",
    "train_features = pd.DataFrame([encoded_class,\n",
    "                              encoded_cabin,\n",
    "                              encoded_sex,\n",
    "                              titanic_train[\"Age\"]]).T\n",
    "\n",
    "# Initialize logistic regression model\n",
    "log_model = linear_model.LogisticRegression()\n",
    "\n",
    "# Train the model\n",
    "log_model.fit(X = train_features ,\n",
    "              y = titanic_train[\"Survived\"])\n",
    "\n",
    "# Check trained model intercept\n",
    "preds = log_model.predict(X= train_features)\n",
    "\n",
    "# Check trained model coefficients\n"
   ]
  },
  {
   "cell_type": "code",
   "execution_count": 13,
   "metadata": {},
   "outputs": [],
   "source": [
    "from sklearn import metrics\n"
   ]
  },
  {
   "cell_type": "code",
   "execution_count": 14,
   "metadata": {},
   "outputs": [
    {
     "data": {
      "text/plain": [
       "array([[336,  63],\n",
       "       [ 77, 192]], dtype=int64)"
      ]
     },
     "execution_count": 14,
     "metadata": {},
     "output_type": "execute_result"
    }
   ],
   "source": [
    "\n",
    "# View confusion matrix View co \n",
    "metrics.confusion_matrix(y_true=titanic_train[\"Survived\"],  # True labels\n",
    "                         y_pred=preds) # Predicted labels"
   ]
  },
  {
   "cell_type": "code",
   "execution_count": 16,
   "metadata": {},
   "outputs": [],
   "source": [
    "titanic_test = pd.read_csv(\"test.csv\")    # Read the data\n",
    "\n",
    "char_cabin = titanic_test[\"Cabin\"].astype(str)     # Convert cabin to str\n",
    "\n",
    "new_Cabin = np.array([cabin[0] for cabin in char_cabin]) # Take first letter\n",
    "\n",
    "titanic_test[\"Cabin\"] = pd.Categorical(new_Cabin)  # Save the new cabin var\n",
    "\n",
    "# Impute median Age for NA Age values\n",
    "new_age_var = np.where(titanic_test[\"Age\"].isnull(), # Logical check\n",
    "                       28,                       # Value if check is true\n",
    "                       titanic_test[\"Age\"])      # Value if check is false\n",
    "\n",
    "titanic_test[\"Age\"] = new_age_var "
   ]
  },
  {
   "cell_type": "code",
   "execution_count": 17,
   "metadata": {},
   "outputs": [],
   "source": [
    "encoded_sex = label_encoder.fit_transform(titanic_test[\"Sex\"])\n",
    "encoded_class = label_encoder.fit_transform(titanic_test[\"Pclass\"])\n",
    "encoded_cabin = label_encoder.fit_transform(titanic_test[\"Cabin\"])\n",
    "\n",
    "test_features = pd.DataFrame([encoded_class,\n",
    "                              encoded_cabin,\n",
    "                              encoded_sex,\n",
    "                              titanic_test[\"Age\"]]).T"
   ]
  },
  {
   "cell_type": "code",
   "execution_count": 20,
   "metadata": {
    "scrolled": true
   },
   "outputs": [],
   "source": [
    "test_preds = log_model.predict(X=test_features)\n",
    "\n",
    "# Create a submission for Kaggle\n",
    "submission = pd.DataFrame({\"Name\":titanic_test[\"Name\"],\n",
    "                           \"Survived\":test_preds})\n",
    "\n",
    "# Save submission to CSV\n",
    "submission.to_csv(\"tutorial_logreg_submission.csv\", \n",
    "                  index=False)        # Do not sa"
   ]
  }
 ],
 "metadata": {
  "kernelspec": {
   "display_name": "Python 3",
   "language": "python",
   "name": "python3"
  },
  "language_info": {
   "codemirror_mode": {
    "name": "ipython",
    "version": 3
   },
   "file_extension": ".py",
   "mimetype": "text/x-python",
   "name": "python",
   "nbconvert_exporter": "python",
   "pygments_lexer": "ipython3",
   "version": "3.6.4"
  }
 },
 "nbformat": 4,
 "nbformat_minor": 2
}
