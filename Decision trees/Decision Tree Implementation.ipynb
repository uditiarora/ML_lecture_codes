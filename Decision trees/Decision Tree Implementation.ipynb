{
 "cells": [
  {
   "cell_type": "code",
   "execution_count": 8,
   "metadata": {},
   "outputs": [],
   "source": [
    "import numpy as np\n",
    "import collections\n",
    "from math import log\n",
    "import pandas as pd\n"
   ]
  },
  {
   "cell_type": "code",
   "execution_count": 9,
   "metadata": {},
   "outputs": [],
   "source": [
    "class Node:\n",
    "    def __init__(self):\n",
    "        self.left = None\n",
    "        self.right = None\n",
    "        self.feature = None\n",
    "        self.entropy = None\n",
    "        self.values = None\n"
   ]
  },
  {
   "cell_type": "code",
   "execution_count": null,
   "metadata": {},
   "outputs": [],
   "source": []
  },
  {
   "cell_type": "code",
   "execution_count": 10,
   "metadata": {},
   "outputs": [],
   "source": [
    "def informationSplit(x_train,x1,x2):\n",
    "    a = len(x1)\n",
    "    b = len(x2)\n",
    "    t = len(x_train)\n",
    "    ans = (-(a/t)*log(a/t , 2)) - ((b/t)*log(b/t,2))\n",
    "    return ans"
   ]
  },
  {
   "cell_type": "code",
   "execution_count": 11,
   "metadata": {},
   "outputs": [],
   "source": [
    "def entropy(tmp):\n",
    "    total = 0\n",
    "    for key in tmp:\n",
    "        total += tmp[key]\n",
    "    ans = 0\n",
    "    for key in tmp:\n",
    "            temp = tmp[key] / total\n",
    "            if(temp==0):\n",
    "                continue\n",
    "            ans = ans - (temp * log(temp,2))\n",
    "    return ans"
   ]
  },
  {
   "cell_type": "code",
   "execution_count": 12,
   "metadata": {},
   "outputs": [],
   "source": [
    "def gain(x_train,x1,x2,classes):\n",
    "    if(len(x1)==0 or len(x2)==0):\n",
    "        return -1\n",
    "    x_train_classes = collections.Counter(x_train[:,len(x_train[0])-1])\n",
    "    x1_classes = collections.Counter(x1[:,len(x1[0])-1])\n",
    "    x2_classes = collections.Counter(x2[:,len(x2[0])-1])\n",
    "    info_gain = entropy(x_train_classes) - ((len(x1)/len(x_train))*entropy(x1_classes) + (len(x2)/len(x_train))*entropy(x2_classes))\n",
    "    gain_ratio = info_gain/informationSplit(x_train,x1,x2)\n",
    "    return gain_ratio"
   ]
  },
  {
   "cell_type": "code",
   "execution_count": 13,
   "metadata": {},
   "outputs": [],
   "source": [
    "def Split(x_train,features,classes):\n",
    "    max_feature = 0\n",
    "    max_gain= -1\n",
    "    breakPoint = 0\n",
    "    for f in features:\n",
    "        arr = x_train[:,f]\n",
    "        np.sort(arr)\n",
    "        mid_list = []\n",
    "        for i in range(len(arr)-1):\n",
    "            temp = (arr[i] + arr[i+1])/2\n",
    "            mid_list.append(temp)\n",
    "        for i in range(len(mid_list)):\n",
    "            condition = x_train[:,f] < mid_list[i]\n",
    "            x1 = x_train[condition==True]\n",
    "            x2 = x_train[condition==False]\n",
    "            temp = gain(x_train,x1,x2,classes)\n",
    "            if(temp>max_gain):\n",
    "                max_gain = temp\n",
    "                breakPoint = mid_list[i]\n",
    "                max_feature = f\n",
    "    return breakPoint,max_feature,max_gain"
   ]
  },
  {
   "cell_type": "code",
   "execution_count": 17,
   "metadata": {},
   "outputs": [],
   "source": [
    "def build(x_train,features,classes,level):\n",
    "    \n",
    "    tmp = collections.Counter(x_train[:,len(x_train[0])-1])\n",
    "    root = Node()\n",
    "    root.entropy = entropy(tmp)\n",
    "    root.values = tmp\n",
    "    root.total_samples = len(x_train)\n",
    "    print(\"Level\",level)\n",
    "    for i in classes:\n",
    "        print(\"Count of \",i,\" = \",tmp[i])\n",
    "    print(\"Current Entropy is \",root.entropy)\n",
    "   \n",
    "    \n",
    "    if (len(features)==0):\n",
    "        print(\"Reached Leaf Node\")\n",
    "        print()\n",
    "        return None\n",
    "    \n",
    "    if(len(tmp) == 1):\n",
    "        print(\"Reached Leaf Node\")\n",
    "        print()\n",
    "        return root\n",
    "    \n",
    "    splitting, feature_used,gain = Split(x_train,features,classes)\n",
    "    print(\"Splitting on feature\",feature_used,\"with gain ratio \",gain)\n",
    "    \n",
    "    index = features.index(feature_used)\n",
    "    features.remove(feature_used)\n",
    "    expr = x_train[:,feature_used] < splitting\n",
    "    new_x_left = x_train[expr == True]\n",
    "    new_x_right = x_train[expr == False]\n",
    "    print()\n",
    "    root.left = build(new_x_left,features,classes,level+1)\n",
    "    root.right = build(new_x_right,features,classes,level+1)\n",
    "    features.insert(index,feature_used)\n",
    "    \n",
    "    return root\n",
    "    \n",
    "    \n",
    "    "
   ]
  },
  {
   "cell_type": "code",
   "execution_count": 15,
   "metadata": {},
   "outputs": [],
   "source": [
    "def fit(data):\n",
    "    x_train = data[:,:]\n",
    "    features = [i for i in range(len(x_train[0])-1)]\n",
    "    classes = collections.Counter(x_train[:,len(x_train[0])-1])\n",
    "    \n",
    "    tree = build(x_train,features,classes,0)\n",
    "    return tree"
   ]
  },
  {
   "cell_type": "code",
   "execution_count": null,
   "metadata": {},
   "outputs": [],
   "source": []
  },
  {
   "cell_type": "code",
   "execution_count": null,
   "metadata": {},
   "outputs": [],
   "source": []
  },
  {
   "cell_type": "code",
   "execution_count": 19,
   "metadata": {},
   "outputs": [],
   "source": [
    "    \n"
   ]
  },
  {
   "cell_type": "code",
   "execution_count": 18,
   "metadata": {
    "scrolled": true
   },
   "outputs": [
    {
     "name": "stdout",
     "output_type": "stream",
     "text": [
      "Level 0\n",
      "Count of  1  =  3\n",
      "Count of  0  =  1\n",
      "Current Entropy is  0.8112781244591328\n",
      "Splitting on feature 0 with gain ratio  0.31127812445913283\n",
      "\n",
      "Level 1\n",
      "Count of  1  =  1\n",
      "Count of  0  =  1\n",
      "Current Entropy is  1.0\n",
      "Splitting on feature 1 with gain ratio  1.0\n",
      "\n",
      "Level 2\n",
      "Count of  1  =  0\n",
      "Count of  0  =  1\n",
      "Current Entropy is  0.0\n",
      "Reached Leaf Node\n",
      "\n",
      "Level 2\n",
      "Count of  1  =  1\n",
      "Count of  0  =  0\n",
      "Current Entropy is  0.0\n",
      "Reached Leaf Node\n",
      "\n",
      "Level 1\n",
      "Count of  1  =  2\n",
      "Count of  0  =  0\n",
      "Current Entropy is  0.0\n",
      "Reached Leaf Node\n",
      "\n"
     ]
    }
   ],
   "source": [
    "data = np.array([[1,1,1],\n",
    "                   [1,0,1],\n",
    "                   [0,1,1],\n",
    "                   [0,0,0]])\n",
    "root = fit(data)\n",
    "    "
   ]
  },
  {
   "cell_type": "code",
   "execution_count": null,
   "metadata": {},
   "outputs": [],
   "source": []
  }
 ],
 "metadata": {
  "kernelspec": {
   "display_name": "Python 3",
   "language": "python",
   "name": "python3"
  },
  "language_info": {
   "codemirror_mode": {
    "name": "ipython",
    "version": 3
   },
   "file_extension": ".py",
   "mimetype": "text/x-python",
   "name": "python",
   "nbconvert_exporter": "python",
   "pygments_lexer": "ipython3",
   "version": "3.6.4"
  }
 },
 "nbformat": 4,
 "nbformat_minor": 2
}
