{
 "cells": [
  {
   "cell_type": "markdown",
   "metadata": {},
   "source": [
    "dT(Xtrain,Ytrain,features)\n",
    "{\n",
    "    base case - 1. pure node \n",
    "    //find all possible  classes in Y\n",
    "    // if all the labels are of same class then pure\n",
    "    if Length of set(Y)=1 means all values  are same means only 1 class is left\n",
    "    //means  pure node\n",
    "    2. feature len =0\n",
    "    max_gain\n",
    "    for every feature (f) calculate information gain\n",
    "                 max_gain=max(max_gain,gain(X,Y,f))\n",
    "    max_gain,final feature\n",
    "    for all unique labels(rows) in finalfeature\n",
    "    i.e set(x[:,finalfeature])\n",
    "    call recursion dT(X,Y,features-final_features)\n",
    "}\n",
    "gain(X,Y , selected feature)\n",
    "{\n",
    "    set(X[:,SelectedFeature])\n",
    "}"
   ]
  },
  {
   "cell_type": "code",
   "execution_count": 1,
   "metadata": {},
   "outputs": [
    {
     "name": "stdout",
     "output_type": "stream",
     "text": [
      "[[False  True  True]\n",
      " [False False False]]\n"
     ]
    },
    {
     "data": {
      "text/plain": [
       "array([[ True,  True,  True],\n",
       "       [False,  True,  True],\n",
       "       [ True, False,  True],\n",
       "       [False, False, False]], dtype=bool)"
      ]
     },
     "execution_count": 1,
     "metadata": {},
     "output_type": "execute_result"
    }
   ],
   "source": [
    "import numpy as np\n",
    "#OR TABLE\n",
    "or1=np.array([[True,True,True],[False,True,True],[True,False,True],[False,False,False]])\n",
    "xtrain=or1[:,:-1]\n",
    "ytrain=or1[:,-1]\n",
    "\n",
    "f=xtrain.shape[1]\n",
    "\n",
    "ytrain.shape\n",
    "#print(xtrain.shape[0])\n",
    "\n",
    "\n",
    "#Rough\n",
    "split=or1[np.where(or1[:,0] == False)]\n",
    "print(split)\n",
    "or1\n"
   ]
  },
  {
   "cell_type": "code",
   "execution_count": 3,
   "metadata": {},
   "outputs": [],
   "source": [
    "def  gain (or1,xtrain,ytrain,f):\n",
    "    totaldp=xtrain.shape[0] #datapoints in parent node\n",
    "    current_entropy=entropy(ytrain) #entropy of parent node\n",
    "    lower_weighted_en=0 # childnodes' aggregate entropy\n",
    "    \n",
    "    #print(or1)\n",
    "    for  i in set(xtrain[:,f]):\n",
    "        currdp=(xtrain[:,f]==i).sum() #datapoints in current split of that feature for value i (of feature)\n",
    "        split=or1[np.where(or1[:,f]==i)] #splitting the data on that value of feature\n",
    "        xt=split[:,:-1]\n",
    "        yt=split[:,-1]\n",
    "       \n",
    "        lower_weighted_en=lower_weighted_en+(entropy(yt)*currdp)/totaldp #Adding entropies of all i to form aggregate\n",
    "        #print(\"LOWER:::\",lower_weighted_en,\"currdp:\",currdp,\"total:\",totaldp)\n",
    "    return current_entropy-lower_weighted_en #returing info gain   \n",
    "        \n"
   ]
  },
  {
   "cell_type": "code",
   "execution_count": 16,
   "metadata": {
    "collapsed": true
   },
   "outputs": [],
   "source": [
    "def dT(or1,xtrain,ytrain,f,level):\n",
    "    \n",
    "    print()\n",
    "    level=level+1\n",
    "    print(\"Level \",level)\n",
    "    count(ytrain)\n",
    "    print(\"Current Entropy is = \",entropy(ytrain))\n",
    "    \n",
    "    #base case\n",
    "    if (f==0 or len(set(ytrain))==1):\n",
    "        print(\"Reached leaf  Node\")\n",
    "        return\n",
    "    \n",
    "    \n",
    "    max_gain=-10000\n",
    "    final_feature=12\n",
    "    for i in range (f): #for every feature\n",
    "        currgain=gain(or1,xtrain,ytrain,i) #gain on feature f\n",
    "        #print(\"GAIN::::\",currgain)\n",
    "    \n",
    "        if (max_gain<currgain):\n",
    "            max_gain=currgain\n",
    "            final_feature=i\n",
    "            \n",
    "    print(\"Splitting on feature\",final_feature,\"with gain ratio \",max_gain)\n",
    "    \n",
    "    #Callinng on every value of selected feature \n",
    "    for  i in set(or1[:,final_feature]):\n",
    "        split=or1[np.where(or1[:,final_feature]==i)]\n",
    "        #print(split)\n",
    "        #REMOVING final_feature before recurring\n",
    "        a=split[:,:final_feature]\n",
    "        b=split[:,final_feature+1:-1]\n",
    "        xt=np.concatenate((a, b), 1)\n",
    "        yt=split[:,-1]\n",
    "        c=split[:,final_feature+1:]\n",
    "        split=np.concatenate((a,c),1) #Removing from whole set as well\n",
    "        dT(split,xt,yt,f-1,level) #calling on dT with decrement in feature value\n",
    "        \n"
   ]
  },
  {
   "cell_type": "code",
   "execution_count": 17,
   "metadata": {
    "collapsed": true
   },
   "outputs": [],
   "source": [
    "def count(ytrain):\n",
    "    for  i in set(ytrain):\n",
    "        c=(ytrain==i).sum()\n",
    "        print(\"Count  of \", i,\"=\",c)\n",
    "        "
   ]
  },
  {
   "cell_type": "code",
   "execution_count": 18,
   "metadata": {
    "collapsed": true
   },
   "outputs": [],
   "source": [
    "import math as m\n",
    "def entropy(ytrain):\n",
    "    totaldp=ytrain.shape[0]\n",
    "    info=0\n",
    "    for i in set(ytrain): #for every distinct class\n",
    "        currcount=(ytrain==i).sum() #current class count dp(datapoints)\n",
    "        info=info-((currcount/totaldp)*m.log((currcount/totaldp),2)) # aggregating for all the classes (all i s)\n",
    "    return info"
   ]
  },
  {
   "cell_type": "code",
   "execution_count": 19,
   "metadata": {},
   "outputs": [
    {
     "name": "stdout",
     "output_type": "stream",
     "text": [
      "\n",
      "Level  0\n",
      "Count  of  False = 1\n",
      "Count  of  True = 3\n",
      "Current Entropy is =  0.811278124459\n",
      "Splitting on feature 0 with gain ratio  0.311278124459\n",
      "\n",
      "Level  1\n",
      "Count  of  False = 1\n",
      "Count  of  True = 1\n",
      "Current Entropy is =  1.0\n",
      "Splitting on feature 0 with gain ratio  1.0\n",
      "\n",
      "Level  2\n",
      "Count  of  False = 1\n",
      "Current Entropy is =  0.0\n",
      "Reached leaf  Node\n",
      "\n",
      "Level  2\n",
      "Count  of  True = 1\n",
      "Current Entropy is =  0.0\n",
      "Reached leaf  Node\n",
      "\n",
      "Level  1\n",
      "Count  of  True = 2\n",
      "Current Entropy is =  0.0\n",
      "Reached leaf  Node\n"
     ]
    }
   ],
   "source": [
    "dT(or1,xtrain,ytrain,f,-1)"
   ]
  },
  {
   "cell_type": "code",
   "execution_count": 288,
   "metadata": {},
   "outputs": [
    {
     "name": "stdout",
     "output_type": "stream",
     "text": [
      "[[ 1  2  3  4]\n",
      " [ 4  5  6  7]\n",
      " [ 7  8  9 10]]\n",
      "[[1 3]\n",
      " [4 6]\n",
      " [7 9]]\n"
     ]
    }
   ],
   "source": [
    "#AT level 1 it is  showing split on feature 0 but its actually on 1 only\n",
    "#after the split and removal of f0 ,f1 becomes  f0.\n",
    "#Rough\n",
    "split=np.array([[1,2,3,4],[4,5,6,7],[7,8,9,10]])\n",
    "print(split)\n",
    "a=split[:,:1]\n",
    "b=split[:,2:-1]\n",
    "xt=np.concatenate((a, b), 1)\n",
    "print(xt)"
   ]
  },
  {
   "cell_type": "code",
   "execution_count": null,
   "metadata": {
    "collapsed": true
   },
   "outputs": [],
   "source": []
  },
  {
   "cell_type": "code",
   "execution_count": null,
   "metadata": {
    "collapsed": true
   },
   "outputs": [],
   "source": []
  }
 ],
 "metadata": {
  "kernelspec": {
   "display_name": "Python 3",
   "language": "python",
   "name": "python3"
  },
  "language_info": {
   "codemirror_mode": {
    "name": "ipython",
    "version": 3
   },
   "file_extension": ".py",
   "mimetype": "text/x-python",
   "name": "python",
   "nbconvert_exporter": "python",
   "pygments_lexer": "ipython3",
   "version": "3.6.4"
  }
 },
 "nbformat": 4,
 "nbformat_minor": 2
}
